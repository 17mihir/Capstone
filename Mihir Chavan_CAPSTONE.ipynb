{
 "cells": [
  {
   "cell_type": "code",
   "execution_count": 158,
   "id": "cd5e21bb",
   "metadata": {},
   "outputs": [],
   "source": [
    "import pandas as pd\n",
    "import numpy as np\n",
    "import matplotlib.pyplot as plt\n",
    "import seaborn as sns\n",
    "from matplotlib import style\n",
    "style.use('ggplot')"
   ]
  },
  {
   "cell_type": "code",
   "execution_count": 2,
   "id": "c64087f3",
   "metadata": {},
   "outputs": [],
   "source": [
    "df=pd.read_csv(r'C:\\Users\\User\\Desktop\\Sentiment Analysis\\archive (5)\\IMDB Dataset.csv')"
   ]
  },
  {
   "cell_type": "code",
   "execution_count": 3,
   "id": "b764c1f1",
   "metadata": {
    "scrolled": true
   },
   "outputs": [
    {
     "data": {
      "text/html": [
       "<div>\n",
       "<style scoped>\n",
       "    .dataframe tbody tr th:only-of-type {\n",
       "        vertical-align: middle;\n",
       "    }\n",
       "\n",
       "    .dataframe tbody tr th {\n",
       "        vertical-align: top;\n",
       "    }\n",
       "\n",
       "    .dataframe thead th {\n",
       "        text-align: right;\n",
       "    }\n",
       "</style>\n",
       "<table border=\"1\" class=\"dataframe\">\n",
       "  <thead>\n",
       "    <tr style=\"text-align: right;\">\n",
       "      <th></th>\n",
       "      <th>review</th>\n",
       "      <th>sentiment</th>\n",
       "    </tr>\n",
       "  </thead>\n",
       "  <tbody>\n",
       "    <tr>\n",
       "      <th>0</th>\n",
       "      <td>One of the other reviewers has mentioned that ...</td>\n",
       "      <td>positive</td>\n",
       "    </tr>\n",
       "    <tr>\n",
       "      <th>1</th>\n",
       "      <td>A wonderful little production. &lt;br /&gt;&lt;br /&gt;The...</td>\n",
       "      <td>positive</td>\n",
       "    </tr>\n",
       "    <tr>\n",
       "      <th>2</th>\n",
       "      <td>I thought this was a wonderful way to spend ti...</td>\n",
       "      <td>positive</td>\n",
       "    </tr>\n",
       "    <tr>\n",
       "      <th>3</th>\n",
       "      <td>Basically there's a family where a little boy ...</td>\n",
       "      <td>negative</td>\n",
       "    </tr>\n",
       "    <tr>\n",
       "      <th>4</th>\n",
       "      <td>Petter Mattei's \"Love in the Time of Money\" is...</td>\n",
       "      <td>positive</td>\n",
       "    </tr>\n",
       "  </tbody>\n",
       "</table>\n",
       "</div>"
      ],
      "text/plain": [
       "                                              review sentiment\n",
       "0  One of the other reviewers has mentioned that ...  positive\n",
       "1  A wonderful little production. <br /><br />The...  positive\n",
       "2  I thought this was a wonderful way to spend ti...  positive\n",
       "3  Basically there's a family where a little boy ...  negative\n",
       "4  Petter Mattei's \"Love in the Time of Money\" is...  positive"
      ]
     },
     "execution_count": 3,
     "metadata": {},
     "output_type": "execute_result"
    }
   ],
   "source": [
    "df.head()"
   ]
  },
  {
   "cell_type": "code",
   "execution_count": 4,
   "id": "3dd87324",
   "metadata": {},
   "outputs": [
    {
     "data": {
      "text/plain": [
       "Index(['review', 'sentiment'], dtype='object')"
      ]
     },
     "execution_count": 4,
     "metadata": {},
     "output_type": "execute_result"
    }
   ],
   "source": [
    "df.columns"
   ]
  },
  {
   "cell_type": "code",
   "execution_count": 5,
   "id": "596f1dc4",
   "metadata": {},
   "outputs": [
    {
     "data": {
      "text/plain": [
       "review       0\n",
       "sentiment    0\n",
       "dtype: int64"
      ]
     },
     "execution_count": 5,
     "metadata": {},
     "output_type": "execute_result"
    }
   ],
   "source": [
    "df.isnull().sum()"
   ]
  },
  {
   "cell_type": "code",
   "execution_count": 6,
   "id": "c9d19f3f",
   "metadata": {},
   "outputs": [
    {
     "data": {
      "text/plain": [
       "(50000, 2)"
      ]
     },
     "execution_count": 6,
     "metadata": {},
     "output_type": "execute_result"
    }
   ],
   "source": [
    "df.shape"
   ]
  },
  {
   "cell_type": "code",
   "execution_count": 7,
   "id": "d2266489",
   "metadata": {},
   "outputs": [
    {
     "data": {
      "text/plain": [
       "positive    25000\n",
       "negative    25000\n",
       "Name: sentiment, dtype: int64"
      ]
     },
     "execution_count": 7,
     "metadata": {},
     "output_type": "execute_result"
    }
   ],
   "source": [
    "df['sentiment'].value_counts()"
   ]
  },
  {
   "cell_type": "code",
   "execution_count": 8,
   "id": "538059e5",
   "metadata": {},
   "outputs": [
    {
     "name": "stdout",
     "output_type": "stream",
     "text": [
      "The Data Set Is Highly Balanced\n"
     ]
    },
    {
     "data": {
      "image/png": "[encoded data removed]",
      "text/plain": [
       "<Figure size 432x288 with 1 Axes>"
      ]
     },
     "metadata": {},
     "output_type": "display_data"
    }
   ],
   "source": [
    "sns.countplot(x='sentiment', data=df)\n",
    "plt.title(\"Sentiment Distribution\")\n",
    "print(\"The Data Set Is Highly Balanced\")"
   ]
  },
  {
   "cell_type": "code",
   "execution_count": 9,
   "id": "ca4c6e64",
   "metadata": {},
   "outputs": [
    {
     "name": "stdout",
     "output_type": "stream",
     "text": [
      "Review:  [0]\n",
      "One of the other reviewers has mentioned that after watching just 1 Oz episode you'll be hooked. They are right, as this is exactly what happened with me.<br /><br />The first thing that struck me about Oz was its brutality and unflinching scenes of violence, which set in right from the word GO. Trust me, this is not a show for the faint hearted or timid. This show pulls no punches with regards to drugs, sex or violence. Its is hardcore, in the classic use of the word.<br /><br />It is called OZ as that is the nickname given to the Oswald Maximum Security State Penitentary. It focuses mainly on Emerald City, an experimental section of the prison where all the cells have glass fronts and face inwards, so privacy is not high on the agenda. Em City is home to many..Aryans, Muslims, gangstas, Latinos, Christians, Italians, Irish and more....so scuffles, death stares, dodgy dealings and shady agreements are never far away.<br /><br />I would say the main appeal of the show is due to the fact that it goes where other shows wouldn't dare. Forget pretty pictures painted for mainstream audiences, forget charm, forget romance...OZ doesn't mess around. The first episode I ever saw struck me as so nasty it was surreal, I couldn't say I was ready for it, but as I watched more, I developed a taste for Oz, and got accustomed to the high levels of graphic violence. Not just violence, but injustice (crooked guards who'll be sold out for a nickel, inmates who'll kill on order and get away with it, well mannered, middle class inmates being turned into prison bitches due to their lack of street skills or prison experience) Watching Oz, you may become comfortable with what is uncomfortable viewing....thats if you can get in touch with your darker side. \n",
      "\n",
      "positive \n",
      "\n",
      "Review:  [1]\n",
      "A wonderful little production. <br /><br />The filming technique is very unassuming- very old-time-BBC fashion and gives a comforting, and sometimes discomforting, sense of realism to the entire piece. <br /><br />The actors are extremely well chosen- Michael Sheen not only \"has got all the polari\" but he has all the voices down pat too! You can truly see the seamless editing guided by the references to Williams' diary entries, not only is it well worth the watching but it is a terrificly written and performed piece. A masterful production about one of the great master's of comedy and his life. <br /><br />The realism really comes home with the little things: the fantasy of the guard which, rather than use the traditional 'dream' techniques remains solid then disappears. It plays on our knowledge and our senses, particularly with the scenes concerning Orton and Halliwell and the sets (particularly of their flat with Halliwell's murals decorating every surface) are terribly well done. \n",
      "\n",
      "positive \n",
      "\n",
      "Review:  [2]\n",
      "I thought this was a wonderful way to spend time on a too hot summer weekend, sitting in the air conditioned theater and watching a light-hearted comedy. The plot is simplistic, but the dialogue is witty and the characters are likable (even the well bread suspected serial killer). While some may be disappointed when they realize this is not Match Point 2: Risk Addiction, I thought it was proof that Woody Allen is still fully in control of the style many of us have grown to love.<br /><br />This was the most I'd laughed at one of Woody's comedies in years (dare I say a decade?). While I've never been impressed with Scarlet Johanson, in this she managed to tone down her \"sexy\" image and jumped right into a average, but spirited young woman.<br /><br />This may not be the crown jewel of his career, but it was wittier than \"Devil Wears Prada\" and more interesting than \"Superman\" a great comedy to go see with friends. \n",
      "\n",
      "positive \n",
      "\n",
      "Review:  [3]\n",
      "Basically there's a family where a little boy (Jake) thinks there's a zombie in his closet & his parents are fighting all the time.<br /><br />This movie is slower than a soap opera... and suddenly, Jake decides to become Rambo and kill the zombie.<br /><br />OK, first of all when you're going to make a film you must Decide if its a thriller or a drama! As a drama the movie is watchable. Parents are divorcing & arguing like in real life. And then we have Jake with his closet which totally ruins all the film! I expected to see a BOOGEYMAN similar movie, and instead i watched a drama with some meaningless thriller spots.<br /><br />3 out of 10 just for the well playing parents & descent dialogs. As for the shots with Jake: just ignore them. \n",
      "\n",
      "negative \n",
      "\n",
      "Review:  [4]\n",
      "Petter Mattei's \"Love in the Time of Money\" is a visually stunning film to watch. Mr. Mattei offers us a vivid portrait about human relations. This is a movie that seems to be telling us what money, power and success do to people in the different situations we encounter. <br /><br />This being a variation on the Arthur Schnitzler's play about the same theme, the director transfers the action to the present time New York where all these different characters meet and connect. Each one is connected in one way, or another to the next person, but no one seems to know the previous point of contact. Stylishly, the film has a sophisticated luxurious look. We are taken to see how these people live and the world they live in their own habitat.<br /><br />The only thing one gets out of all these souls in the picture is the different stages of loneliness each one inhabits. A big city is not exactly the best place in which human relations find sincere fulfillment, as one discerns is the case with most of the people we encounter.<br /><br />The acting is good under Mr. Mattei's direction. Steve Buscemi, Rosario Dawson, Carol Kane, Michael Imperioli, Adrian Grenier, and the rest of the talented cast, make these characters come alive.<br /><br />We wish Mr. Mattei good luck and await anxiously for his next work. \n",
      "\n",
      "positive \n",
      "\n"
     ]
    }
   ],
   "source": [
    "# Printing first 5 reviews along with the sentiments\n",
    "for i in range (5):\n",
    "    print(\"Review: \",[i])\n",
    "    print(df['review'].iloc[i], \"\\n\")\n",
    "    print(df['sentiment'].iloc[i], \"\\n\")"
   ]
  },
  {
   "cell_type": "code",
   "execution_count": 10,
   "id": "c355b646",
   "metadata": {},
   "outputs": [
    {
     "data": {
      "text/html": [
       "<div>\n",
       "<style scoped>\n",
       "    .dataframe tbody tr th:only-of-type {\n",
       "        vertical-align: middle;\n",
       "    }\n",
       "\n",
       "    .dataframe tbody tr th {\n",
       "        vertical-align: top;\n",
       "    }\n",
       "\n",
       "    .dataframe thead th {\n",
       "        text-align: right;\n",
       "    }\n",
       "</style>\n",
       "<table border=\"1\" class=\"dataframe\">\n",
       "  <thead>\n",
       "    <tr style=\"text-align: right;\">\n",
       "      <th></th>\n",
       "      <th>review</th>\n",
       "      <th>sentiment</th>\n",
       "    </tr>\n",
       "  </thead>\n",
       "  <tbody>\n",
       "    <tr>\n",
       "      <th>0</th>\n",
       "      <td>One of the other reviewers has mentioned that ...</td>\n",
       "      <td>positive</td>\n",
       "    </tr>\n",
       "    <tr>\n",
       "      <th>1</th>\n",
       "      <td>A wonderful little production. &lt;br /&gt;&lt;br /&gt;The...</td>\n",
       "      <td>positive</td>\n",
       "    </tr>\n",
       "    <tr>\n",
       "      <th>2</th>\n",
       "      <td>I thought this was a wonderful way to spend ti...</td>\n",
       "      <td>positive</td>\n",
       "    </tr>\n",
       "    <tr>\n",
       "      <th>3</th>\n",
       "      <td>Basically there's a family where a little boy ...</td>\n",
       "      <td>negative</td>\n",
       "    </tr>\n",
       "    <tr>\n",
       "      <th>4</th>\n",
       "      <td>Petter Mattei's \"Love in the Time of Money\" is...</td>\n",
       "      <td>positive</td>\n",
       "    </tr>\n",
       "  </tbody>\n",
       "</table>\n",
       "</div>"
      ],
      "text/plain": [
       "                                              review sentiment\n",
       "0  One of the other reviewers has mentioned that ...  positive\n",
       "1  A wonderful little production. <br /><br />The...  positive\n",
       "2  I thought this was a wonderful way to spend ti...  positive\n",
       "3  Basically there's a family where a little boy ...  negative\n",
       "4  Petter Mattei's \"Love in the Time of Money\" is...  positive"
      ]
     },
     "execution_count": 10,
     "metadata": {},
     "output_type": "execute_result"
    }
   ],
   "source": [
    "df.head()"
   ]
  },
  {
   "cell_type": "code",
   "execution_count": 11,
   "id": "e7ae5bc4",
   "metadata": {},
   "outputs": [],
   "source": [
    "#Replacing Categorial Values of Sentiment Column into Numerical Values\n",
    "\n",
    "df.sentiment.replace(\"positive\", 1, inplace=True)\n",
    "df.sentiment.replace(\"negative\", 0, inplace=True)"
   ]
  },
  {
   "cell_type": "code",
   "execution_count": 12,
   "id": "79cde765",
   "metadata": {},
   "outputs": [
    {
     "data": {
      "text/html": [
       "<div>\n",
       "<style scoped>\n",
       "    .dataframe tbody tr th:only-of-type {\n",
       "        vertical-align: middle;\n",
       "    }\n",
       "\n",
       "    .dataframe tbody tr th {\n",
       "        vertical-align: top;\n",
       "    }\n",
       "\n",
       "    .dataframe thead th {\n",
       "        text-align: right;\n",
       "    }\n",
       "</style>\n",
       "<table border=\"1\" class=\"dataframe\">\n",
       "  <thead>\n",
       "    <tr style=\"text-align: right;\">\n",
       "      <th></th>\n",
       "      <th>review</th>\n",
       "      <th>sentiment</th>\n",
       "    </tr>\n",
       "  </thead>\n",
       "  <tbody>\n",
       "    <tr>\n",
       "      <th>0</th>\n",
       "      <td>One of the other reviewers has mentioned that ...</td>\n",
       "      <td>1</td>\n",
       "    </tr>\n",
       "    <tr>\n",
       "      <th>1</th>\n",
       "      <td>A wonderful little production. &lt;br /&gt;&lt;br /&gt;The...</td>\n",
       "      <td>1</td>\n",
       "    </tr>\n",
       "    <tr>\n",
       "      <th>2</th>\n",
       "      <td>I thought this was a wonderful way to spend ti...</td>\n",
       "      <td>1</td>\n",
       "    </tr>\n",
       "    <tr>\n",
       "      <th>3</th>\n",
       "      <td>Basically there's a family where a little boy ...</td>\n",
       "      <td>0</td>\n",
       "    </tr>\n",
       "    <tr>\n",
       "      <th>4</th>\n",
       "      <td>Petter Mattei's \"Love in the Time of Money\" is...</td>\n",
       "      <td>1</td>\n",
       "    </tr>\n",
       "  </tbody>\n",
       "</table>\n",
       "</div>"
      ],
      "text/plain": [
       "                                              review  sentiment\n",
       "0  One of the other reviewers has mentioned that ...          1\n",
       "1  A wonderful little production. <br /><br />The...          1\n",
       "2  I thought this was a wonderful way to spend ti...          1\n",
       "3  Basically there's a family where a little boy ...          0\n",
       "4  Petter Mattei's \"Love in the Time of Money\" is...          1"
      ]
     },
     "execution_count": 12,
     "metadata": {},
     "output_type": "execute_result"
    }
   ],
   "source": [
    "df.head()"
   ]
  },
  {
   "cell_type": "markdown",
   "id": "cfb5a44b",
   "metadata": {},
   "source": [
    "## Preprocessing Of Data"
   ]
  },
  {
   "cell_type": "markdown",
   "id": "ab4a99b7",
   "metadata": {},
   "source": [
    "Lower Case Conversion\n",
    "\n",
    "Removing Break Tags\n",
    "\n",
    "Removing the URL's\n",
    "\n",
    "Removing the hashtags and add symbols\n",
    "\n",
    "Removing the punctuations\n",
    "\n",
    "Removing the stopwords"
   ]
  },
  {
   "cell_type": "code",
   "execution_count": 13,
   "id": "2f328df3",
   "metadata": {},
   "outputs": [],
   "source": [
    "import re\n",
    "import nltk\n",
    "from nltk.tokenize.toktok import ToktokTokenizer\n",
    "\n",
    "from nltk.tokenize import word_tokenize\n",
    "from nltk.stem import PorterStemmer\n",
    "from nltk.corpus import stopwords\n",
    "stop_words=set(stopwords.words('english'))\n"
   ]
  },
  {
   "cell_type": "code",
   "execution_count": 14,
   "id": "13ed2ae5",
   "metadata": {},
   "outputs": [
    {
     "name": "stderr",
     "output_type": "stream",
     "text": [
      "[nltk_data] Downloading package punkt to\n",
      "[nltk_data]     C:\\Users\\User\\AppData\\Roaming\\nltk_data...\n",
      "[nltk_data]   Package punkt is already up-to-date!\n"
     ]
    },
    {
     "data": {
      "text/plain": [
       "True"
      ]
     },
     "execution_count": 14,
     "metadata": {},
     "output_type": "execute_result"
    }
   ],
   "source": [
    "nltk.download('punkt')"
   ]
  },
  {
   "cell_type": "code",
   "execution_count": 15,
   "id": "d961c54e",
   "metadata": {},
   "outputs": [],
   "source": [
    "def data_preprocessing(text):\n",
    "    text=text.lower()\n",
    "    text=re.sub('<br />','',text)\n",
    "    text=re.sub(r\"https\\S+|http\\S+\",'',text,flags = re.MULTILINE)\n",
    "    text=re.sub(r'\\@w+|\\#','',text)\n",
    "    text=re.sub(r'[^\\w\\s]','',text)\n",
    "    text_tokens=word_tokenize(text)\n",
    "    filtered_text=[w for w in text_tokens if not w in stop_words]\n",
    "    return \" \".join(filtered_text)"
   ]
  },
  {
   "cell_type": "code",
   "execution_count": 16,
   "id": "211054b7",
   "metadata": {},
   "outputs": [],
   "source": [
    "df.review=df['review'].apply(data_preprocessing)"
   ]
  },
  {
   "cell_type": "code",
   "execution_count": 17,
   "id": "8b84e7a0",
   "metadata": {},
   "outputs": [
    {
     "name": "stderr",
     "output_type": "stream",
     "text": [
      "[nltk_data] Downloading package punkt to\n",
      "[nltk_data]     C:\\Users\\User\\AppData\\Roaming\\nltk_data...\n",
      "[nltk_data]   Package punkt is already up-to-date!\n"
     ]
    },
    {
     "data": {
      "text/plain": [
       "True"
      ]
     },
     "execution_count": 17,
     "metadata": {},
     "output_type": "execute_result"
    }
   ],
   "source": [
    "nltk.download('punkt')"
   ]
  },
  {
   "cell_type": "code",
   "execution_count": 18,
   "id": "cd5a52bd",
   "metadata": {},
   "outputs": [
    {
     "data": {
      "text/html": [
       "<div>\n",
       "<style scoped>\n",
       "    .dataframe tbody tr th:only-of-type {\n",
       "        vertical-align: middle;\n",
       "    }\n",
       "\n",
       "    .dataframe tbody tr th {\n",
       "        vertical-align: top;\n",
       "    }\n",
       "\n",
       "    .dataframe thead th {\n",
       "        text-align: right;\n",
       "    }\n",
       "</style>\n",
       "<table border=\"1\" class=\"dataframe\">\n",
       "  <thead>\n",
       "    <tr style=\"text-align: right;\">\n",
       "      <th></th>\n",
       "      <th>review</th>\n",
       "      <th>sentiment</th>\n",
       "    </tr>\n",
       "  </thead>\n",
       "  <tbody>\n",
       "    <tr>\n",
       "      <th>0</th>\n",
       "      <td>one reviewers mentioned watching 1 oz episode ...</td>\n",
       "      <td>1</td>\n",
       "    </tr>\n",
       "    <tr>\n",
       "      <th>1</th>\n",
       "      <td>wonderful little production filming technique ...</td>\n",
       "      <td>1</td>\n",
       "    </tr>\n",
       "    <tr>\n",
       "      <th>2</th>\n",
       "      <td>thought wonderful way spend time hot summer we...</td>\n",
       "      <td>1</td>\n",
       "    </tr>\n",
       "    <tr>\n",
       "      <th>3</th>\n",
       "      <td>basically theres family little boy jake thinks...</td>\n",
       "      <td>0</td>\n",
       "    </tr>\n",
       "    <tr>\n",
       "      <th>4</th>\n",
       "      <td>petter matteis love time money visually stunni...</td>\n",
       "      <td>1</td>\n",
       "    </tr>\n",
       "  </tbody>\n",
       "</table>\n",
       "</div>"
      ],
      "text/plain": [
       "                                              review  sentiment\n",
       "0  one reviewers mentioned watching 1 oz episode ...          1\n",
       "1  wonderful little production filming technique ...          1\n",
       "2  thought wonderful way spend time hot summer we...          1\n",
       "3  basically theres family little boy jake thinks...          0\n",
       "4  petter matteis love time money visually stunni...          1"
      ]
     },
     "execution_count": 18,
     "metadata": {},
     "output_type": "execute_result"
    }
   ],
   "source": [
    "df.head()"
   ]
  },
  {
   "cell_type": "markdown",
   "id": "7d2fdb10",
   "metadata": {},
   "source": [
    "Checking and Removing the Duplicate entries\n"
   ]
  },
  {
   "cell_type": "code",
   "execution_count": 19,
   "id": "944394da",
   "metadata": {},
   "outputs": [
    {
     "name": "stdout",
     "output_type": "stream",
     "text": [
      "422\n"
     ]
    }
   ],
   "source": [
    "duplicates=df.duplicated().sum()\n",
    "print(duplicates)"
   ]
  },
  {
   "cell_type": "code",
   "execution_count": 20,
   "id": "cf2066d8",
   "metadata": {},
   "outputs": [],
   "source": [
    "df=df.drop_duplicates('review')"
   ]
  },
  {
   "cell_type": "code",
   "execution_count": 21,
   "id": "4a9cbcec",
   "metadata": {},
   "outputs": [],
   "source": [
    "#Stemming the text\n",
    "def stemmer(text):\n",
    "    ps=nltk.porter.PorterStemmer()\n",
    "    text= ' '.join([ps.stem(word) for word in text.split()])\n",
    "    return text\n"
   ]
  },
  {
   "cell_type": "code",
   "execution_count": 22,
   "id": "3a33e935",
   "metadata": {},
   "outputs": [],
   "source": [
    "df['review']=df['review'].apply(stemmer)"
   ]
  },
  {
   "cell_type": "code",
   "execution_count": 23,
   "id": "396db3ca",
   "metadata": {},
   "outputs": [],
   "source": [
    "postive_reviews=df[df.sentiment == 1]"
   ]
  },
  {
   "cell_type": "code",
   "execution_count": 31,
   "id": "ec144126",
   "metadata": {
    "collapsed": true
   },
   "outputs": [
    {
     "data": {
      "text/html": [
       "<div>\n",
       "<style scoped>\n",
       "    .dataframe tbody tr th:only-of-type {\n",
       "        vertical-align: middle;\n",
       "    }\n",
       "\n",
       "    .dataframe tbody tr th {\n",
       "        vertical-align: top;\n",
       "    }\n",
       "\n",
       "    .dataframe thead th {\n",
       "        text-align: right;\n",
       "    }\n",
       "</style>\n",
       "<table border=\"1\" class=\"dataframe\">\n",
       "  <thead>\n",
       "    <tr style=\"text-align: right;\">\n",
       "      <th></th>\n",
       "      <th>review</th>\n",
       "      <th>sentiment</th>\n",
       "    </tr>\n",
       "  </thead>\n",
       "  <tbody>\n",
       "    <tr>\n",
       "      <th>0</th>\n",
       "      <td>one review mention watch 1 oz episod youll hoo...</td>\n",
       "      <td>1</td>\n",
       "    </tr>\n",
       "    <tr>\n",
       "      <th>1</th>\n",
       "      <td>wonder littl product film techniqu unassum old...</td>\n",
       "      <td>1</td>\n",
       "    </tr>\n",
       "    <tr>\n",
       "      <th>2</th>\n",
       "      <td>thought wonder way spend time hot summer weeke...</td>\n",
       "      <td>1</td>\n",
       "    </tr>\n",
       "    <tr>\n",
       "      <th>4</th>\n",
       "      <td>petter mattei love time money visual stun film...</td>\n",
       "      <td>1</td>\n",
       "    </tr>\n",
       "    <tr>\n",
       "      <th>5</th>\n",
       "      <td>probabl alltim favorit movi stori selfless sac...</td>\n",
       "      <td>1</td>\n",
       "    </tr>\n",
       "  </tbody>\n",
       "</table>\n",
       "</div>"
      ],
      "text/plain": [
       "                                              review  sentiment\n",
       "0  one review mention watch 1 oz episod youll hoo...          1\n",
       "1  wonder littl product film techniqu unassum old...          1\n",
       "2  thought wonder way spend time hot summer weeke...          1\n",
       "4  petter mattei love time money visual stun film...          1\n",
       "5  probabl alltim favorit movi stori selfless sac...          1"
      ]
     },
     "execution_count": 31,
     "metadata": {},
     "output_type": "execute_result"
    }
   ],
   "source": [
    "postive_reviews.head()"
   ]
  },
  {
   "cell_type": "code",
   "execution_count": 28,
   "id": "247fe42e",
   "metadata": {
    "scrolled": true
   },
   "outputs": [
    {
     "data": {
      "text/plain": [
       "review                                                                                                                                                                                                                                                                                                                                                                                                                                                                                                                                                                                                                                                                                                                                                                                                                                                                                                                                                                                                                                                                                                                                                  sentiment\n",
       "film easili rival emot strength dramat impact topnotch perform 12 angri men rent whim amaz heard beforei know emilio estevez directori debut pace interplay develop charact well clever camera work surround charact estevez play suggest natur eyeth interplay martin emilio contain wonder chemistri saw wall street martin charli kathi bate wonder charact subtl desper escap variat charact play field lord irrit yet one empath timether moment feel plot slow touch moment estevez exgirlfriend almost seem written anoth film estevez come anoth charact togeth minor complaintsthi film must base true stori must written someon live experi rate 8 difficult 10                                                                                                                                                                                                                                                                                                                                                                                                                                                                               1            2\n",
       "planktonrul comment mustv written topsyturvi day everyth state simpl life form opposit real truthbluebeard eighth wife hilari everi scene everi way chemistri colbert cooper could finersupport cast superbwrit direct magnificentlik mani comment board lament cant film like anymor classic paramount 1930 screwbal comedi best folk                                                                                                                                                                                                                                                                                                                                                                                                                                                                                                                                                                                                                                                                                                                                                                                                                  1            1\n",
       "plane flick larg choic movi came across live almost accident oh boy choicei rememb vagu see trailer year ago complet forgot expect anoth cheesi nonsens movi stupid realiti show easili say hell ride dont rememb last time excit terrifi sure high altitud play sens suspens grow gradual movi reach climax cant turn away screen liter sit edg seat bite remain nail youv gotyou first go person moral assess stand righteous show drift think come human viciou allask would learn contest motiv start guess watch contest pull trigger one one get excit even though know first candid safegood act good direct movi experi remind old movi knew would happen next scene still crave morespoil coupl thing would chang cast contest realli move farmer bit like idea rich writer want famou bit stupid felt like didnt care contest although might done purpos think audienc abl associ major contest game rule big glitch happen 5th contest doesnt die pull trigger serious think last stand guy pull trigger execut given chanc contest live ie 5th blank one diesinterestingli havent bother much bad point caus realli good time wish popcorn  1            1\n",
       "plan episod bit dull reach desert quit fun watch reason call realist realiti show much surprisecharley fell race rel earli hand sore expect usual stress miracl fix instead actual quit race anxiou moment show mustv max stuck desert almost water food end great happi see least one team make overal great long way round definit interest watch one get peek challeng race world                                                                                                                                                                                                                                                                                                                                                                                                                                                                                                                                                                                                                                                                                                                                                                    1            1\n",
       "plainsman repres directori prowess cecil b demil inaccur unfactu set parallel plot less stellar entourag wild bill hickok gari cooper buffalo bill codi jame ellison calam jane jean arthur georg armstrong custer abraham lincoln interact even though realiti lincoln alreadi dead time stori take place everi demil float danger close toward truth easili veer away unabash spectacl showmanship film attempt buttress custer last stand heap fiction loos base live peopl alreadi product manufactur stuff legend truli world accord demil zeitgeist annal entertain pretti campi relic today standardstransf consid vintag film moder appeal transfer often clean white extrem solid black there consider amount film grain scene absenc moment imag qualiti therefor somewhat inconsist never bad good bit better middl road age relat artifact kept minimum digit anomali distract audio mono nice balancedextra forget univers bottom line pseudohistori paint celluloid western compel fun take charact stori grain salt case whole box seem appropri                                                                                         1            1\n",
       "                                                                                                                                                                                                                                                                                                                                                                                                                                                                                                                                                                                                                                                                                                                                                                                                                                                                                                                                                                                                                                                                                                                                                                    ..\n",
       "good engag cinemat firefight great present vehicl actual fun drive fairli appeal multiplay faith movi list goe onbad main mission bit shortthi game defin good third person shooternot necessarili spygam great firefight carri stori make want complet everi singl mission unlock genuin bonus game offer hype game live person think buy hook coupl friend play one load fun sound game riproar achiev previou bond game fire weapon realli feel like your fire weapon tie aspect deadli ruthless spyall game make excit satisfi make multiplay compet standard crafti jame bond nightfir game gamecub                                                                                                                                                                                                                                                                                                                                                                                                                                                                                                                                                1            1\n",
       "good earth great movieeverybodi must seeit tearjerk heart warm cater enhanc valuesform persever humil love familyth stori relat life today especi poverti threshold way respond problem crucial person strong enough face may left defenseless useless pleas charact justifi role even young actorstheir emot captiv audienc movi may done black white stori captiv want end make realli great remak nice movi                                                                                                                                                                                                                                                                                                                                                                                                                                                                                                                                                                                                                                                                                                                                          1            1\n",
       "good earth great movi dont hear much anymor lot big disast event also nonpassion love stori happen littl two hour short today standard special effect costum good time periodi surpris luis rainer receiv oscar limit role basic three emot submiss hungri heartbrokenth perform asian asianamerican actor terrif                                                                                                                                                                                                                                                                                                                                                                                                                                                                                                                                                                                                                                                                                                                                                                                                                                       1            1\n",
       "good dramat comedi playwright tri figur keep head water run idea cant say much film without give away stori say littl seem watch pictur everybodi agenda nice littl surpris end surpris well written good perform                                                                                                                                                                                                                                                                                                                                                                                                                                                                                                                                                                                                                                                                                                                                                                                                                                                                                                                                       1            1\n",
       "ý thýnk uzak ýs one best film time everybodi must realiz moviei turkish boy big cinema fun day cinema industri high upand uzak best turkish film last ten yearsand mayb one best film timesdirector nuri bilg ceylan quit amazingtel storycharactersatmospher wonderfulh minimalist director tell routin event familydreamsexpectslifetel tell metel usi promis find piec bodi moviecinema life welcom new directorh wait realizei promis yo love movi pleas watch                                                                                                                                                                                                                                                                                                                                                                                                                                                                                                                                                                                                                                                                                      1            1\n",
       "Length: 24882, dtype: int64"
      ]
     },
     "execution_count": 28,
     "metadata": {},
     "output_type": "execute_result"
    }
   ],
   "source": [
    "postive_reviews.value_counts()"
   ]
  },
  {
   "cell_type": "code",
   "execution_count": 29,
   "id": "16fdc4c3",
   "metadata": {},
   "outputs": [],
   "source": [
    "from collections import Counter"
   ]
  },
  {
   "cell_type": "code",
   "execution_count": 32,
   "id": "a8bcd60f",
   "metadata": {},
   "outputs": [],
   "source": [
    "count=Counter()\n",
    "for text in postive_reviews['review'].values:\n",
    "    for word in text.split():\n",
    "        count[word] +=1\n",
    "        "
   ]
  },
  {
   "cell_type": "code",
   "execution_count": 42,
   "id": "3a40e5fd",
   "metadata": {
    "scrolled": true
   },
   "outputs": [
    {
     "data": {
      "text/plain": [
       "[('film', 48842),\n",
       " ('movi', 42888),\n",
       " ('one', 26837),\n",
       " ('like', 19811),\n",
       " ('time', 15400),\n",
       " ('see', 14626),\n",
       " ('good', 14502),\n",
       " ('stori', 13606),\n",
       " ('charact', 13566),\n",
       " ('make', 13114),\n",
       " ('great', 12719),\n",
       " ('get', 12527),\n",
       " ('watch', 12425),\n",
       " ('love', 12014),\n",
       " ('well', 11258)]"
      ]
     },
     "execution_count": 42,
     "metadata": {},
     "output_type": "execute_result"
    }
   ],
   "source": [
    "count.most_common(15)"
   ]
  },
  {
   "cell_type": "code",
   "execution_count": 43,
   "id": "8cdd4627",
   "metadata": {},
   "outputs": [
    {
     "data": {
      "text/html": [
       "<div>\n",
       "<style scoped>\n",
       "    .dataframe tbody tr th:only-of-type {\n",
       "        vertical-align: middle;\n",
       "    }\n",
       "\n",
       "    .dataframe tbody tr th {\n",
       "        vertical-align: top;\n",
       "    }\n",
       "\n",
       "    .dataframe thead th {\n",
       "        text-align: right;\n",
       "    }\n",
       "</style>\n",
       "<table border=\"1\" class=\"dataframe\">\n",
       "  <thead>\n",
       "    <tr style=\"text-align: right;\">\n",
       "      <th></th>\n",
       "      <th>word</th>\n",
       "      <th>count</th>\n",
       "    </tr>\n",
       "  </thead>\n",
       "  <tbody>\n",
       "    <tr>\n",
       "      <th>0</th>\n",
       "      <td>film</td>\n",
       "      <td>48842</td>\n",
       "    </tr>\n",
       "    <tr>\n",
       "      <th>1</th>\n",
       "      <td>movi</td>\n",
       "      <td>42888</td>\n",
       "    </tr>\n",
       "    <tr>\n",
       "      <th>2</th>\n",
       "      <td>one</td>\n",
       "      <td>26837</td>\n",
       "    </tr>\n",
       "    <tr>\n",
       "      <th>3</th>\n",
       "      <td>like</td>\n",
       "      <td>19811</td>\n",
       "    </tr>\n",
       "    <tr>\n",
       "      <th>4</th>\n",
       "      <td>time</td>\n",
       "      <td>15400</td>\n",
       "    </tr>\n",
       "  </tbody>\n",
       "</table>\n",
       "</div>"
      ],
      "text/plain": [
       "   word  count\n",
       "0  film  48842\n",
       "1  movi  42888\n",
       "2   one  26837\n",
       "3  like  19811\n",
       "4  time  15400"
      ]
     },
     "execution_count": 43,
     "metadata": {},
     "output_type": "execute_result"
    }
   ],
   "source": [
    "pos_words= pd.DataFrame(count.most_common(15))\n",
    "pos_words.columns = ['word','count']\n",
    "pos_words.head()"
   ]
  },
  {
   "cell_type": "code",
   "execution_count": 44,
   "id": "345c4619",
   "metadata": {},
   "outputs": [
    {
     "data": {
      "image/png": "[encoded data removed]",
      "text/plain": [
       "<Figure size 432x288 with 1 Axes>"
      ]
     },
     "metadata": {},
     "output_type": "display_data"
    }
   ],
   "source": [
    "pos_words.plot(kind='bar',x='word',y='count')\n",
    "plt.show()"
   ]
  },
  {
   "cell_type": "code",
   "execution_count": 45,
   "id": "f77e9bf1",
   "metadata": {},
   "outputs": [],
   "source": [
    "negative_reviews=df[df.sentiment == 0]"
   ]
  },
  {
   "cell_type": "code",
   "execution_count": 46,
   "id": "1abe3bd4",
   "metadata": {},
   "outputs": [
    {
     "data": {
      "text/html": [
       "<div>\n",
       "<style scoped>\n",
       "    .dataframe tbody tr th:only-of-type {\n",
       "        vertical-align: middle;\n",
       "    }\n",
       "\n",
       "    .dataframe tbody tr th {\n",
       "        vertical-align: top;\n",
       "    }\n",
       "\n",
       "    .dataframe thead th {\n",
       "        text-align: right;\n",
       "    }\n",
       "</style>\n",
       "<table border=\"1\" class=\"dataframe\">\n",
       "  <thead>\n",
       "    <tr style=\"text-align: right;\">\n",
       "      <th></th>\n",
       "      <th>review</th>\n",
       "      <th>sentiment</th>\n",
       "    </tr>\n",
       "  </thead>\n",
       "  <tbody>\n",
       "    <tr>\n",
       "      <th>3</th>\n",
       "      <td>basic there famili littl boy jake think there ...</td>\n",
       "      <td>0</td>\n",
       "    </tr>\n",
       "    <tr>\n",
       "      <th>7</th>\n",
       "      <td>show amaz fresh innov idea 70 first air first ...</td>\n",
       "      <td>0</td>\n",
       "    </tr>\n",
       "    <tr>\n",
       "      <th>8</th>\n",
       "      <td>encourag posit comment film look forward watch...</td>\n",
       "      <td>0</td>\n",
       "    </tr>\n",
       "    <tr>\n",
       "      <th>10</th>\n",
       "      <td>phil alien one quirki film humour base around ...</td>\n",
       "      <td>0</td>\n",
       "    </tr>\n",
       "    <tr>\n",
       "      <th>11</th>\n",
       "      <td>saw movi 12 came recal scariest scene big bird...</td>\n",
       "      <td>0</td>\n",
       "    </tr>\n",
       "  </tbody>\n",
       "</table>\n",
       "</div>"
      ],
      "text/plain": [
       "                                               review  sentiment\n",
       "3   basic there famili littl boy jake think there ...          0\n",
       "7   show amaz fresh innov idea 70 first air first ...          0\n",
       "8   encourag posit comment film look forward watch...          0\n",
       "10  phil alien one quirki film humour base around ...          0\n",
       "11  saw movi 12 came recal scariest scene big bird...          0"
      ]
     },
     "execution_count": 46,
     "metadata": {},
     "output_type": "execute_result"
    }
   ],
   "source": [
    "negative_reviews.head()"
   ]
  },
  {
   "cell_type": "code",
   "execution_count": 47,
   "id": "6023699d",
   "metadata": {
    "scrolled": true
   },
   "outputs": [
    {
     "data": {
      "text/plain": [
       "review                                                                                                                                                                                                                                                                                                                                                                                                                                                                                                                                                                                                                                                                                                                                                                                                                                                                                                                                                                                                                                                                                                                                                                                                                                                                                                                                                                                                                                                                                                                                                                                                                                                                                                                                                                                                                                                                                                                                                                                                                                                                                                                                                                                                                                                                                                                                                                                                                                                                                                                                                                                                                                                                                                                                                                                                                                                sentiment\n",
       "0 star rate would gladli hand absolut horrid pile wast fact actual summari perfectli fine made differ could brilliant make wors basic task lock group peopl experi chamber fine where experi see bunch unintellig surfer blond chat music cultur dont know want know challeng pathet silli whole point realiti tv show realiti set challeng dont make play exagger prop food stereotyp cultur element friday night game make actual challeng earn prize money that fine actual earnt peopl nut would make show better actual idea would gloriou aint gon na happen                                                                                                                                                                                                                                                                                                                                                                                                                                                                                                                                                                                                                                                                                                                                                                                                                                                                                                                                                                                                                                                                                                                                                                                                                                                                                                                                                                                                                                                                                                                                                                                                                                                                                                                                                                                                                                                                                                                                                                                                                                                                                                                                                                                                                                                                                    0            1\n",
       "pretti bad gener movi synopsi inform film paragraphlong plot summari written movi page detail could glean watch actual movi found constantli back see detail miss could tell bleep go ala availthi movi leav monstrou piec stori could call stori like tri fool us think kind movi film enough resembl stori leav rest imagin newsflash creator paid watch make movi sit home imagin plot stori line free rosario dawson somebodi ive never paid enough attent abl put name face see one artifici perform ever seen lead charact movi b figur okay mayb didnt realli want role got hefti offer movi wasnt wrong list one produc next time produc someth dont book lead cant act realli creat decent charact becom also somebodi mention whitelatino issuey hate say movi come across act vengeanc white collegeag male wear basebal hat that happen noth movi endear watcher latino charact adrian charact seem like cocki jerk better stori antagonist maya charact didnt seem like real person anyway im asham hollywood movi even made                                                                                                                                                                                                                                                                                                                                                                                                                                                                                                                                                                                                                                                                                                                                                                                                                                                                                                                                                                                                                                                                                                                                                                                                                                                                                                                                                                                                                                                                                                                                                                                                                                                                                                                                                                                                             0            1\n",
       "privat practic suppos medic drama guess biggest complaint lack origin medic stori line watch hous solv two nine medic mysteri doctor booor serious lazi writer copi case older er episod obscur brazilian medic soap hous recent popular recycl idea hard get away withsecond biggest complaint peopl suppos fortysometh right behav emot matur 15yearold three week ie three whole damn episod intens think realli necessari understand best friend doesnt want friend benefit mayb want hurt doesnt want risk friendship charact think psychiatrist way whole storylin unrealist cant realli buy suppos dramaand wont even start complain show everyon favorit addison got know grey anatomi sidenot dont think funni way addison end lust loser pete sorri everyon tri cure insomnia mozart requiem loser phd derek end entangl relationship whini irrit meredith mile away raini seattl apart littl fling mark seem perfect sometim think shonda rhime subconsci tri tell us relationship first choic often right one                                                                                                                                                                                                                                                                                                                                                                                                                                                                                                                                                                                                                                                                                                                                                                                                                                                                                                                                                                                                                                                                                                                                                                                                                                                                                                                                                                                                                                                                                                                                                                                                                                                                                                                                                                                                                             0            1\n",
       "privat practic spun fairli success well written grey anatomi cast fabul premis might even work write terribleth prepilot disguis grey anatomi episod first warn plot blah thought mayb fluke set dvr tape pilot episodesa watch pilot kept wonder show cast fine actor could put togeth bore pilot pilot suppos suck peopl keep come back there suppos excit flash great write intrigu storylin cliffhang need answer throughout rest season amazingli show none thatthink fluke watch second episod hope best although margin better doesnt come close need interest cant miss tvi scrub show list show watch worth effort imo would surpris show even make mid season pass one folk                                                                                                                                                                                                                                                                                                                                                                                                                                                                                                                                                                                                                                                                                                                                                                                                                                                                                                                                                                                                                                                                                                                                                                                                                                                                                                                                                                                                                                                                                                                                                                                                                                                                                                                                                                                                                                                                                                                                                                                                                                                                                                                                                                 0            1\n",
       "prison set wyom work new prison hit problem state board decid reopen old state penitentiari close 20 year warden eaton sharp lane smith put charg 200 odd prison ship put work fix rundown prison includ burk viggo mortensen order break old execut chamber duli oblig penetr brick door intens beam light shoot electr ga fire around prison goe crazi minut burk unwittingli unleash deadli evil forc mood kill noon safedirect renni harlin thought prison poor late 80 horror flick seem forget small point stori script empir pictur regular c courtney joyner respons write classic class 1999 1990 puppet master iii toulon reveng 1991 puppet master vs demon toy 2004 amongst low budget horror crap even havent heard seem take serious biggest problem prison far slow 30 minut film evil forc even releas although pace pick toward end littl late far concern there fact there discern storylin start never tri explain there evil forc brick old execut chamber never explain forc decid kill random inmat suppos reveng mission doesnt kill warden sharp straight away explan given burk fit even though look exactli prison electrocut come back there real explan warden connect everyth that go apart two earli nightmar sequenc seem rememb someth although never reveal honest couldnt realli give plot synopsi film doesnt rigid stori follow way charact dull forgett murder far pace way whole film mess even ghost cant shoot straight come tri shoot hero less satisfactori way spend 100 odd minut realli better thing could doingdirector harlin full american flick debut good job there decent atmospher hour constant drab dull dark prison cell corridor start get bore think look film far repetit bland frankli lifeless didnt think scari gore pretti tame apart best moment entir film polic guard get kill load barb wire wrap around bodi face nice close throat torn open there burnt corps mangl bodi fall ceil littl els scene warden burn prison mattress front make stand night underwear yard watch scene thought youd never get away someth like prison right warden someth like would nation outcri humanitarian everi prison would sue warden prison servic govern everyth theyd winwith suppos budget 4000000 prison actual pretti healthi budget although doesnt realli look like screen sure there decent cast special effect includ good overal set locat limit ambit prison actual shot real wyom state prison certainli look busi act alright prison prove sometim hollywood star one crap horror film skeleton closet case mortensen two aw return texa chainsaw massacr 1994 im sure hed like forget aboutprison dull lifeless colourless humourless wast 100 minut despit one good gore scene didnt like actual prefer film stori rather seemingli random event incid cobbl togeth narr sens  0            1\n",
       "                                                                                                                                                                                                                                                                                                                                                                                                                                                                                                                                                                                                                                                                                                                                                                                                                                                                                                                                                                                                                                                                                                                                                                                                                                                                                                                                                                                                                                                                                                                                                                                                                                                                                                                                                                                                                                                                                                                                                                                                                                                                                                                                                                                                                                                                                                                                                                                                                                                                                                                                                                                                                                                                                                                                                                                                                                                                  ..\n",
       "hamlet made one boringest mst3000 episod ever shakespear fan believ ever intend work slow pace drab also one hardest movi find mani hamlet list like said though one quit bore black white pace slow minim sceneri actor dub doesnt help one mst 3000 cant watch one sit caus way guy play hamlet say line put anyon sleep                                                                                                                                                                                                                                                                                                                                                                                                                                                                                                                                                                                                                                                                                                                                                                                                                                                                                                                                                                                                                                                                                                                                                                                                                                                                                                                                                                                                                                                                                                                                                                                                                                                                                                                                                                                                                                                                                                                                                                                                                                                                                                                                                                                                                                                                                                                                                                                                                                                                                                                            0            1\n",
       "hamilton tell stori four hamilton sibl teenag franci cori knauf twin wendel joseph mckelheer darlen mackenzi firgen eldest david samuel surrog parent charg hamilton move hous lot franic unsur unhappi way thing fact brother sister kidnap imprison murder peopl basement doesnt help relax calm franci nerv either franci know someth isnt right eventu find truth thing never againcowritten coproduc direct mitchel altieri phil flore butcher brother who film director credit far april fool day 2008 remak enough said one film die 2006 dark horrorfest whatev call keep pretti much other ive seen thought hamilton complet total utter crap found charact realli poor unlik slow move stori fail captur imagin sustain interest 85 half minut long 86 minut durat there aw twist end laugh loud there realli big sustain build what insid cupboard thing hamilton basement eventu reveal littl boy teddi realli suppos scare us realli suppos shock us realli someth suppos us talk end credit roll harmless look young boy best twist end maker could come bore plot plod along never made clear hamilton get money buy new hous sinc none seem work except david slaughterhous doubt pay much havent caught script tri mix everi day drama potent horror terribl job combin two extent neither aspect memor effect realli bad film struggl say anyth good aboutdespit written direct extrem sound butcher brother there gore there bit blood splatter scene girl chain basement noth couldnt home bottl tomato ketchup camcord film neither scari sinc got middleclass suburban set there zero atmospher mood there lesbian suggest incestu kiss hamilton low exploit scale there much horror crowdfilm petaluma california modern low budget look badli made rather forgett act unknown cast noth write home cant say ever felt anyth anyoneth hamilton commit cardin sin dull bore never recov add ultra thin stori gore rubbish end charact dont give toss film impress                                                                                                                                                                                                                                                                                                                                                                                                                                                                                                                                                                                                                                                                                                                                                                                                                                                               0            1\n",
       "hamhand homag honest hack felt good softcor way equival mild pornographi vapid lack technic econom realiti emot moral sophist becam apparentbas muddl 90 remak 85 real geniu fewer stupid genius cynic bad endingperhap movi would appeal someon delight thesi becom billionair easi almost accident perhap technic type like see depict cool sexi specul reason someon might like movi certainli interest movi movi close credit song interest movi                                                                                                                                                                                                                                                                                                                                                                                                                                                                                                                                                                                                                                                                                                                                                                                                                                                                                                                                                                                                                                                                                                                                                                                                                                                                                                                                                                                                                                                                                                                                                                                                                                                                                                                                                                                                                                                                                                                                                                                                                                                                                                                                                                                                                                                                                                                                                                                                  0            1\n",
       "halloween town terror lunat big pumpkin head bad act compromis mostli local talent laughabl special effect make one baaaaad bmovi queen linnea quigley look embarrass part one even consider charm help mani film cant help one pass cheesi flick look good halloween horror film rent night demon also star ms quigley                                                                                                                                                                                                                                                                                                                                                                                                                                                                                                                                                                                                                                                                                                                                                                                                                                                                                                                                                                                                                                                                                                                                                                                                                                                                                                                                                                                                                                                                                                                                                                                                                                                                                                                                                                                                                                                                                                                                                                                                                                                                                                                                                                                                                                                                                                                                                                                                                                                                                                                               0            1\n",
       "zzzzzzzzzzzzzzzzzz imdb would allow oneword review that mine would film origin intend kid would seem tough go adult older kid watch film sing stori everyth dull wash outjust like public domain print like comedi team film root tradit kid stori aw snow white three stoog overr babe toyland movi limit appeal doesnt age well think serious doubt mani kid nowaday would even find film enjoy advic dont watch film must watch abbott costello film almost one film except ac go mar would improv                                                                                                                                                                                                                                                                                                                                                                                                                                                                                                                                                                                                                                                                                                                                                                                                                                                                                                                                                                                                                                                                                                                                                                                                                                                                                                                                                                                                                                                                                                                                                                                                                                                                                                                                                                                                                                                                                                                                                                                                                                                                                                                                                                                                                                                                                                                                                 0            1\n",
       "Length: 24695, dtype: int64"
      ]
     },
     "execution_count": 47,
     "metadata": {},
     "output_type": "execute_result"
    }
   ],
   "source": [
    "negative_reviews.value_counts()"
   ]
  },
  {
   "cell_type": "code",
   "execution_count": 50,
   "id": "cb68f79b",
   "metadata": {},
   "outputs": [],
   "source": [
    "count=Counter()\n",
    "for text in negative_reviews['review'].values:\n",
    "    for word in text.split():\n",
    "        count[word] +=1\n"
   ]
  },
  {
   "cell_type": "code",
   "execution_count": 51,
   "id": "eecbd2cd",
   "metadata": {},
   "outputs": [
    {
     "data": {
      "text/plain": [
       "[('movi', 55289),\n",
       " ('film', 42590),\n",
       " ('one', 25414),\n",
       " ('like', 23647),\n",
       " ('make', 15262),\n",
       " ('get', 14969),\n",
       " ('even', 14933),\n",
       " ('watch', 14382),\n",
       " ('good', 14190),\n",
       " ('time', 14149),\n",
       " ('bad', 13963),\n",
       " ('charact', 13773),\n",
       " ('would', 13482),\n",
       " ('see', 12707),\n",
       " ('realli', 12085)]"
      ]
     },
     "execution_count": 51,
     "metadata": {},
     "output_type": "execute_result"
    }
   ],
   "source": [
    "count.most_common(15)"
   ]
  },
  {
   "cell_type": "code",
   "execution_count": 52,
   "id": "f59f40d3",
   "metadata": {},
   "outputs": [
    {
     "data": {
      "text/html": [
       "<div>\n",
       "<style scoped>\n",
       "    .dataframe tbody tr th:only-of-type {\n",
       "        vertical-align: middle;\n",
       "    }\n",
       "\n",
       "    .dataframe tbody tr th {\n",
       "        vertical-align: top;\n",
       "    }\n",
       "\n",
       "    .dataframe thead th {\n",
       "        text-align: right;\n",
       "    }\n",
       "</style>\n",
       "<table border=\"1\" class=\"dataframe\">\n",
       "  <thead>\n",
       "    <tr style=\"text-align: right;\">\n",
       "      <th></th>\n",
       "      <th>word</th>\n",
       "      <th>count</th>\n",
       "    </tr>\n",
       "  </thead>\n",
       "  <tbody>\n",
       "    <tr>\n",
       "      <th>0</th>\n",
       "      <td>movi</td>\n",
       "      <td>55289</td>\n",
       "    </tr>\n",
       "    <tr>\n",
       "      <th>1</th>\n",
       "      <td>film</td>\n",
       "      <td>42590</td>\n",
       "    </tr>\n",
       "    <tr>\n",
       "      <th>2</th>\n",
       "      <td>one</td>\n",
       "      <td>25414</td>\n",
       "    </tr>\n",
       "    <tr>\n",
       "      <th>3</th>\n",
       "      <td>like</td>\n",
       "      <td>23647</td>\n",
       "    </tr>\n",
       "    <tr>\n",
       "      <th>4</th>\n",
       "      <td>make</td>\n",
       "      <td>15262</td>\n",
       "    </tr>\n",
       "  </tbody>\n",
       "</table>\n",
       "</div>"
      ],
      "text/plain": [
       "   word  count\n",
       "0  movi  55289\n",
       "1  film  42590\n",
       "2   one  25414\n",
       "3  like  23647\n",
       "4  make  15262"
      ]
     },
     "execution_count": 52,
     "metadata": {},
     "output_type": "execute_result"
    }
   ],
   "source": [
    "neg_words= pd.DataFrame(count.most_common(15))\n",
    "neg_words.columns = ['word','count']\n",
    "neg_words.head()"
   ]
  },
  {
   "cell_type": "code",
   "execution_count": 53,
   "id": "679ff4c5",
   "metadata": {},
   "outputs": [
    {
     "data": {
      "image/png": "[encoded data removed]",
      "text/plain": [
       "<Figure size 432x288 with 1 Axes>"
      ]
     },
     "metadata": {},
     "output_type": "display_data"
    }
   ],
   "source": [
    "neg_words.plot(kind='bar',x='word',y='count')\n",
    "plt.show()"
   ]
  },
  {
   "cell_type": "code",
   "execution_count": 55,
   "id": "256a7eb1",
   "metadata": {},
   "outputs": [],
   "source": [
    "X = df['review']\n",
    "Y = df['sentiment']"
   ]
  },
  {
   "cell_type": "code",
   "execution_count": 56,
   "id": "510f1fc5",
   "metadata": {},
   "outputs": [],
   "source": [
    "from sklearn.feature_extraction.text import CountVectorizer\n",
    "from sklearn.feature_extraction.text import TfidfVectorizer\n"
   ]
  },
  {
   "cell_type": "code",
   "execution_count": 57,
   "id": "60fa7176",
   "metadata": {},
   "outputs": [],
   "source": [
    "from sklearn.model_selection import train_test_split"
   ]
  },
  {
   "cell_type": "markdown",
   "id": "599ce32d",
   "metadata": {},
   "source": [
    "# Tfidf"
   ]
  },
  {
   "cell_type": "code",
   "execution_count": 60,
   "id": "071cc614",
   "metadata": {},
   "outputs": [],
   "source": [
    "vect= TfidfVectorizer()\n",
    "X=vect.fit_transform(df['review'])"
   ]
  },
  {
   "cell_type": "code",
   "execution_count": null,
   "id": "2fd6f8e6",
   "metadata": {},
   "outputs": [],
   "source": [
    "X_train, X_valid, y_train, y_valid = train_test_split(X, y, test_size=0.2, random_state=42)\n"
   ]
  },
  {
   "cell_type": "code",
   "execution_count": 61,
   "id": "190f25e0",
   "metadata": {},
   "outputs": [
    {
     "name": "stdout",
     "output_type": "stream",
     "text": [
      "Size of x_train:  (34704, 181967)\n",
      "Size of y_train:  (34704,)\n",
      "Size of x_test:  (14874, 181967)\n",
      "Size of y_test:  (14874,)\n"
     ]
    }
   ],
   "source": [
    "x_train, x_test, y_train,y_test = train_test_split(X,Y, test_size=0.3, random_state = 43)\n",
    "print(\"Size of x_train: \", (x_train.shape))\n",
    "print(\"Size of y_train: \", (y_train.shape))\n",
    "print(\"Size of x_test: \", (x_test.shape))\n",
    "print(\"Size of y_test: \", (y_test.shape))"
   ]
  },
  {
   "cell_type": "code",
   "execution_count": 62,
   "id": "01b54714",
   "metadata": {},
   "outputs": [],
   "source": [
    "from sklearn.linear_model import LogisticRegression\n",
    "from sklearn.naive_bayes import MultinomialNB\n",
    "from sklearn.ensemble import RandomForestClassifier\n",
    "from sklearn.metrics import accuracy_score, classification_report, confusion_matrix"
   ]
  },
  {
   "cell_type": "code",
   "execution_count": 65,
   "id": "6a267f9a",
   "metadata": {
    "scrolled": true
   },
   "outputs": [
    {
     "name": "stdout",
     "output_type": "stream",
     "text": [
      "88.92026354712922\n"
     ]
    },
    {
     "name": "stderr",
     "output_type": "stream",
     "text": [
      "C:\\ProgramData\\Anaconda3\\lib\\site-packages\\sklearn\\linear_model\\_logistic.py:814: ConvergenceWarning: lbfgs failed to converge (status=1):\n",
      "STOP: TOTAL NO. of ITERATIONS REACHED LIMIT.\n",
      "\n",
      "Increase the number of iterations (max_iter) or scale the data as shown in:\n",
      "    https://scikit-learn.org/stable/modules/preprocessing.html\n",
      "Please also refer to the documentation for alternative solver options:\n",
      "    https://scikit-learn.org/stable/modules/linear_model.html#logistic-regression\n",
      "  n_iter_i = _check_optimize_result(\n"
     ]
    }
   ],
   "source": [
    "model1=LogisticRegression()\n",
    "model1.fit(x_train,y_train)\n",
    "model1_predict=model1.predict(x_test)\n",
    "model1_acc= accuracy_score(model1_predict, y_test)\n",
    "print(model1_acc*100)"
   ]
  },
  {
   "cell_type": "code",
   "execution_count": 66,
   "id": "dc405979",
   "metadata": {
    "scrolled": true
   },
   "outputs": [
    {
     "name": "stdout",
     "output_type": "stream",
     "text": [
      "[[6526  892]\n",
      " [ 756 6700]]\n",
      "\n",
      "\n",
      "              precision    recall  f1-score   support\n",
      "\n",
      "           0       0.90      0.88      0.89      7418\n",
      "           1       0.88      0.90      0.89      7456\n",
      "\n",
      "    accuracy                           0.89     14874\n",
      "   macro avg       0.89      0.89      0.89     14874\n",
      "weighted avg       0.89      0.89      0.89     14874\n",
      "\n"
     ]
    }
   ],
   "source": [
    "print(confusion_matrix(y_test, model1_predict))\n",
    "print(\"\\n\")\n",
    "print(classification_report(y_test, model1_predict))"
   ]
  },
  {
   "cell_type": "markdown",
   "id": "678a8118",
   "metadata": {},
   "source": [
    "# Bag Of Words"
   ]
  },
  {
   "cell_type": "code",
   "execution_count": 67,
   "id": "3ae5694e",
   "metadata": {},
   "outputs": [],
   "source": []
  },
  {
   "cell_type": "code",
   "execution_count": 69,
   "id": "9a07ad08",
   "metadata": {},
   "outputs": [],
   "source": [
    "vect2=CountVectorizer\n",
    "X=vect.fit_transform(df['review'])"
   ]
  },
  {
   "cell_type": "code",
   "execution_count": 70,
   "id": "ce3bc4d0",
   "metadata": {},
   "outputs": [
    {
     "name": "stdout",
     "output_type": "stream",
     "text": [
      "Size of x_train:  (34704, 181967)\n",
      "Size of y_train:  (34704,)\n",
      "Size of x_test:  (14874, 181967)\n",
      "Size of y_test:  (14874,)\n"
     ]
    }
   ],
   "source": [
    "x_train, x_test, y_train, y_test = train_test_split(X,Y, test_size=0.3, random_state = 43)\n",
    "print(\"Size of x_train: \", (x_train.shape))\n",
    "print(\"Size of y_train: \", (y_train.shape))\n",
    "print(\"Size of x_test: \", (x_test.shape))\n",
    "print(\"Size of y_test: \", (y_test.shape))"
   ]
  },
  {
   "cell_type": "code",
   "execution_count": 71,
   "id": "8115ed0f",
   "metadata": {},
   "outputs": [
    {
     "name": "stdout",
     "output_type": "stream",
     "text": [
      "88.92026354712922\n"
     ]
    },
    {
     "name": "stderr",
     "output_type": "stream",
     "text": [
      "C:\\ProgramData\\Anaconda3\\lib\\site-packages\\sklearn\\linear_model\\_logistic.py:814: ConvergenceWarning: lbfgs failed to converge (status=1):\n",
      "STOP: TOTAL NO. of ITERATIONS REACHED LIMIT.\n",
      "\n",
      "Increase the number of iterations (max_iter) or scale the data as shown in:\n",
      "    https://scikit-learn.org/stable/modules/preprocessing.html\n",
      "Please also refer to the documentation for alternative solver options:\n",
      "    https://scikit-learn.org/stable/modules/linear_model.html#logistic-regression\n",
      "  n_iter_i = _check_optimize_result(\n"
     ]
    }
   ],
   "source": [
    "model1bow=LogisticRegression()\n",
    "model1bow.fit(x_train,y_train)\n",
    "model1bow_predict=model1bow.predict(x_test)\n",
    "model1bow_acc= accuracy_score(model1bow_predict, y_test)\n",
    "print(model1bow_acc*100)"
   ]
  },
  {
   "cell_type": "markdown",
   "id": "47b75f1d",
   "metadata": {},
   "source": [
    "# Word2Vec"
   ]
  },
  {
   "cell_type": "code",
   "execution_count": 77,
   "id": "3776b29a",
   "metadata": {},
   "outputs": [],
   "source": [
    "import gensim\n",
    "\n",
    "x = gensim.models.Word2Vec(df['review'], min_count=1)"
   ]
  },
  {
   "cell_type": "code",
   "execution_count": 78,
   "id": "061b2448",
   "metadata": {},
   "outputs": [
    {
     "name": "stdout",
     "output_type": "stream",
     "text": [
      "Size of x_train:  (34704, 181967)\n",
      "Size of y_train:  (34704,)\n",
      "Size of x_test:  (14874, 181967)\n",
      "Size of y_test:  (14874,)\n"
     ]
    }
   ],
   "source": [
    "x_train, x_test, y_train, y_test = train_test_split(X,Y, test_size=0.3, random_state = 43)\n",
    "print(\"Size of x_train: \", (x_train.shape))\n",
    "print(\"Size of y_train: \", (y_train.shape))\n",
    "print(\"Size of x_test: \", (x_test.shape))\n",
    "print(\"Size of y_test: \", (y_test.shape))"
   ]
  },
  {
   "cell_type": "code",
   "execution_count": 79,
   "id": "344a5e63",
   "metadata": {},
   "outputs": [
    {
     "name": "stdout",
     "output_type": "stream",
     "text": [
      "88.92026354712922\n"
     ]
    },
    {
     "name": "stderr",
     "output_type": "stream",
     "text": [
      "C:\\ProgramData\\Anaconda3\\lib\\site-packages\\sklearn\\linear_model\\_logistic.py:814: ConvergenceWarning: lbfgs failed to converge (status=1):\n",
      "STOP: TOTAL NO. of ITERATIONS REACHED LIMIT.\n",
      "\n",
      "Increase the number of iterations (max_iter) or scale the data as shown in:\n",
      "    https://scikit-learn.org/stable/modules/preprocessing.html\n",
      "Please also refer to the documentation for alternative solver options:\n",
      "    https://scikit-learn.org/stable/modules/linear_model.html#logistic-regression\n",
      "  n_iter_i = _check_optimize_result(\n"
     ]
    }
   ],
   "source": [
    "model1w2v=LogisticRegression()\n",
    "model1w2v.fit(x_train,y_train)\n",
    "model1w2v_predict=model1w2v.predict(x_test)\n",
    "model1w2v_acc= accuracy_score(model1w2v_predict, y_test)\n",
    "print(model1w2v_acc*100)"
   ]
  },
  {
   "cell_type": "markdown",
   "id": "de43caaf",
   "metadata": {},
   "source": [
    "# Random Forest Classifier"
   ]
  },
  {
   "cell_type": "code",
   "execution_count": 80,
   "id": "b180ea01",
   "metadata": {},
   "outputs": [
    {
     "name": "stdout",
     "output_type": "stream",
     "text": [
      "84.5434987226032\n"
     ]
    }
   ],
   "source": [
    "model2w2v=RandomForestClassifier()\n",
    "\n",
    "model2w2v.fit(x_train,y_train)\n",
    "model2w2v_predict=model2w2v.predict(x_test)\n",
    "model2w2v_acc= accuracy_score(model2w2v_predict, y_test)\n",
    "print(model2w2v_acc*100)"
   ]
  },
  {
   "cell_type": "code",
   "execution_count": 82,
   "id": "3c1c7078",
   "metadata": {},
   "outputs": [
    {
     "name": "stdout",
     "output_type": "stream",
     "text": [
      "Fitting 5 folds for each of 36 candidates, totalling 180 fits\n",
      "[CV 1/5] END bootstrap=True, criterion=gini, max_depth=2, n_estimators=10;, score=0.603 total time=   0.5s\n",
      "[CV 2/5] END bootstrap=True, criterion=gini, max_depth=2, n_estimators=10;, score=0.581 total time=   0.4s\n",
      "[CV 3/5] END bootstrap=True, criterion=gini, max_depth=2, n_estimators=10;, score=0.596 total time=   0.4s\n",
      "[CV 4/5] END bootstrap=True, criterion=gini, max_depth=2, n_estimators=10;, score=0.581 total time=   0.4s\n",
      "[CV 5/5] END bootstrap=True, criterion=gini, max_depth=2, n_estimators=10;, score=0.677 total time=   0.4s\n",
      "[CV 1/5] END bootstrap=True, criterion=gini, max_depth=2, n_estimators=50;, score=0.689 total time=   1.7s\n",
      "[CV 2/5] END bootstrap=True, criterion=gini, max_depth=2, n_estimators=50;, score=0.671 total time=   1.7s\n",
      "[CV 3/5] END bootstrap=True, criterion=gini, max_depth=2, n_estimators=50;, score=0.699 total time=   1.7s\n",
      "[CV 4/5] END bootstrap=True, criterion=gini, max_depth=2, n_estimators=50;, score=0.722 total time=   1.8s\n",
      "[CV 5/5] END bootstrap=True, criterion=gini, max_depth=2, n_estimators=50;, score=0.711 total time=   1.7s\n",
      "[CV 1/5] END bootstrap=True, criterion=gini, max_depth=2, n_estimators=100;, score=0.731 total time=   3.4s\n",
      "[CV 2/5] END bootstrap=True, criterion=gini, max_depth=2, n_estimators=100;, score=0.744 total time=   3.4s\n",
      "[CV 3/5] END bootstrap=True, criterion=gini, max_depth=2, n_estimators=100;, score=0.725 total time=   3.4s\n",
      "[CV 4/5] END bootstrap=True, criterion=gini, max_depth=2, n_estimators=100;, score=0.746 total time=   3.4s\n",
      "[CV 5/5] END bootstrap=True, criterion=gini, max_depth=2, n_estimators=100;, score=0.736 total time=   3.4s\n",
      "[CV 1/5] END bootstrap=True, criterion=gini, max_depth=5, n_estimators=10;, score=0.690 total time=   0.8s\n",
      "[CV 2/5] END bootstrap=True, criterion=gini, max_depth=5, n_estimators=10;, score=0.632 total time=   0.8s\n",
      "[CV 3/5] END bootstrap=True, criterion=gini, max_depth=5, n_estimators=10;, score=0.683 total time=   0.8s\n",
      "[CV 4/5] END bootstrap=True, criterion=gini, max_depth=5, n_estimators=10;, score=0.678 total time=   0.8s\n",
      "[CV 5/5] END bootstrap=True, criterion=gini, max_depth=5, n_estimators=10;, score=0.656 total time=   0.8s\n",
      "[CV 1/5] END bootstrap=True, criterion=gini, max_depth=5, n_estimators=50;, score=0.775 total time=   3.6s\n",
      "[CV 2/5] END bootstrap=True, criterion=gini, max_depth=5, n_estimators=50;, score=0.755 total time=   3.7s\n",
      "[CV 3/5] END bootstrap=True, criterion=gini, max_depth=5, n_estimators=50;, score=0.747 total time=   3.6s\n",
      "[CV 4/5] END bootstrap=True, criterion=gini, max_depth=5, n_estimators=50;, score=0.770 total time=   3.6s\n",
      "[CV 5/5] END bootstrap=True, criterion=gini, max_depth=5, n_estimators=50;, score=0.782 total time=   3.6s\n",
      "[CV 1/5] END bootstrap=True, criterion=gini, max_depth=5, n_estimators=100;, score=0.793 total time=   7.2s\n",
      "[CV 2/5] END bootstrap=True, criterion=gini, max_depth=5, n_estimators=100;, score=0.782 total time=   9.8s\n",
      "[CV 3/5] END bootstrap=True, criterion=gini, max_depth=5, n_estimators=100;, score=0.772 total time=   7.3s\n",
      "[CV 4/5] END bootstrap=True, criterion=gini, max_depth=5, n_estimators=100;, score=0.796 total time=   7.3s\n",
      "[CV 5/5] END bootstrap=True, criterion=gini, max_depth=5, n_estimators=100;, score=0.789 total time=   7.3s\n",
      "[CV 1/5] END bootstrap=True, criterion=gini, max_depth=8, n_estimators=10;, score=0.675 total time=   1.3s\n",
      "[CV 2/5] END bootstrap=True, criterion=gini, max_depth=8, n_estimators=10;, score=0.694 total time=   1.2s\n",
      "[CV 3/5] END bootstrap=True, criterion=gini, max_depth=8, n_estimators=10;, score=0.697 total time=   1.3s\n",
      "[CV 4/5] END bootstrap=True, criterion=gini, max_depth=8, n_estimators=10;, score=0.685 total time=   1.3s\n",
      "[CV 5/5] END bootstrap=True, criterion=gini, max_depth=8, n_estimators=10;, score=0.709 total time=   1.2s\n",
      "[CV 1/5] END bootstrap=True, criterion=gini, max_depth=8, n_estimators=50;, score=0.790 total time=   5.7s\n",
      "[CV 2/5] END bootstrap=True, criterion=gini, max_depth=8, n_estimators=50;, score=0.773 total time=   5.9s\n",
      "[CV 3/5] END bootstrap=True, criterion=gini, max_depth=8, n_estimators=50;, score=0.786 total time=   5.7s\n",
      "[CV 4/5] END bootstrap=True, criterion=gini, max_depth=8, n_estimators=50;, score=0.787 total time=   5.7s\n",
      "[CV 5/5] END bootstrap=True, criterion=gini, max_depth=8, n_estimators=50;, score=0.804 total time=   5.7s\n",
      "[CV 1/5] END bootstrap=True, criterion=gini, max_depth=8, n_estimators=100;, score=0.814 total time=  11.5s\n",
      "[CV 2/5] END bootstrap=True, criterion=gini, max_depth=8, n_estimators=100;, score=0.810 total time=  11.5s\n",
      "[CV 3/5] END bootstrap=True, criterion=gini, max_depth=8, n_estimators=100;, score=0.812 total time=  11.3s\n",
      "[CV 4/5] END bootstrap=True, criterion=gini, max_depth=8, n_estimators=100;, score=0.813 total time=  11.3s\n",
      "[CV 5/5] END bootstrap=True, criterion=gini, max_depth=8, n_estimators=100;, score=0.810 total time=  11.3s\n",
      "[CV 1/5] END bootstrap=True, criterion=entropy, max_depth=2, n_estimators=10;, score=0.577 total time=   0.4s\n",
      "[CV 2/5] END bootstrap=True, criterion=entropy, max_depth=2, n_estimators=10;, score=0.603 total time=   0.4s\n",
      "[CV 3/5] END bootstrap=True, criterion=entropy, max_depth=2, n_estimators=10;, score=0.644 total time=   0.4s\n",
      "[CV 4/5] END bootstrap=True, criterion=entropy, max_depth=2, n_estimators=10;, score=0.611 total time=   0.5s\n",
      "[CV 5/5] END bootstrap=True, criterion=entropy, max_depth=2, n_estimators=10;, score=0.586 total time=   0.5s\n",
      "[CV 1/5] END bootstrap=True, criterion=entropy, max_depth=2, n_estimators=50;, score=0.720 total time=   1.8s\n",
      "[CV 2/5] END bootstrap=True, criterion=entropy, max_depth=2, n_estimators=50;, score=0.717 total time=   1.8s\n",
      "[CV 3/5] END bootstrap=True, criterion=entropy, max_depth=2, n_estimators=50;, score=0.695 total time=   1.8s\n",
      "[CV 4/5] END bootstrap=True, criterion=entropy, max_depth=2, n_estimators=50;, score=0.707 total time=   1.8s\n",
      "[CV 5/5] END bootstrap=True, criterion=entropy, max_depth=2, n_estimators=50;, score=0.691 total time=   1.8s\n",
      "[CV 1/5] END bootstrap=True, criterion=entropy, max_depth=2, n_estimators=100;, score=0.750 total time=   3.5s\n",
      "[CV 2/5] END bootstrap=True, criterion=entropy, max_depth=2, n_estimators=100;, score=0.737 total time=   3.5s\n",
      "[CV 3/5] END bootstrap=True, criterion=entropy, max_depth=2, n_estimators=100;, score=0.742 total time=   3.5s\n",
      "[CV 4/5] END bootstrap=True, criterion=entropy, max_depth=2, n_estimators=100;, score=0.741 total time=   3.4s\n",
      "[CV 5/5] END bootstrap=True, criterion=entropy, max_depth=2, n_estimators=100;, score=0.731 total time=   3.5s\n",
      "[CV 1/5] END bootstrap=True, criterion=entropy, max_depth=5, n_estimators=10;, score=0.638 total time=   0.8s\n",
      "[CV 2/5] END bootstrap=True, criterion=entropy, max_depth=5, n_estimators=10;, score=0.665 total time=   0.8s\n",
      "[CV 3/5] END bootstrap=True, criterion=entropy, max_depth=5, n_estimators=10;, score=0.652 total time=   0.8s\n",
      "[CV 4/5] END bootstrap=True, criterion=entropy, max_depth=5, n_estimators=10;, score=0.680 total time=   0.8s\n",
      "[CV 5/5] END bootstrap=True, criterion=entropy, max_depth=5, n_estimators=10;, score=0.661 total time=   0.8s\n",
      "[CV 1/5] END bootstrap=True, criterion=entropy, max_depth=5, n_estimators=50;, score=0.766 total time=   3.7s\n",
      "[CV 2/5] END bootstrap=True, criterion=entropy, max_depth=5, n_estimators=50;, score=0.751 total time=   3.7s\n",
      "[CV 3/5] END bootstrap=True, criterion=entropy, max_depth=5, n_estimators=50;, score=0.758 total time=   3.7s\n",
      "[CV 4/5] END bootstrap=True, criterion=entropy, max_depth=5, n_estimators=50;, score=0.769 total time=   3.7s\n",
      "[CV 5/5] END bootstrap=True, criterion=entropy, max_depth=5, n_estimators=50;, score=0.777 total time=   3.7s\n",
      "[CV 1/5] END bootstrap=True, criterion=entropy, max_depth=5, n_estimators=100;, score=0.792 total time=   7.4s\n",
      "[CV 2/5] END bootstrap=True, criterion=entropy, max_depth=5, n_estimators=100;, score=0.778 total time=   7.4s\n",
      "[CV 3/5] END bootstrap=True, criterion=entropy, max_depth=5, n_estimators=100;, score=0.797 total time=   7.4s\n",
      "[CV 4/5] END bootstrap=True, criterion=entropy, max_depth=5, n_estimators=100;, score=0.803 total time=   7.5s\n",
      "[CV 5/5] END bootstrap=True, criterion=entropy, max_depth=5, n_estimators=100;, score=0.808 total time=   7.3s\n"
     ]
    },
    {
     "name": "stdout",
     "output_type": "stream",
     "text": [
      "[CV 1/5] END bootstrap=True, criterion=entropy, max_depth=8, n_estimators=10;, score=0.676 total time=   1.3s\n",
      "[CV 2/5] END bootstrap=True, criterion=entropy, max_depth=8, n_estimators=10;, score=0.675 total time=   1.2s\n",
      "[CV 3/5] END bootstrap=True, criterion=entropy, max_depth=8, n_estimators=10;, score=0.714 total time=   1.2s\n",
      "[CV 4/5] END bootstrap=True, criterion=entropy, max_depth=8, n_estimators=10;, score=0.694 total time=   1.2s\n",
      "[CV 5/5] END bootstrap=True, criterion=entropy, max_depth=8, n_estimators=10;, score=0.682 total time=   1.2s\n",
      "[CV 1/5] END bootstrap=True, criterion=entropy, max_depth=8, n_estimators=50;, score=0.775 total time=   5.8s\n",
      "[CV 2/5] END bootstrap=True, criterion=entropy, max_depth=8, n_estimators=50;, score=0.778 total time=   5.8s\n",
      "[CV 3/5] END bootstrap=True, criterion=entropy, max_depth=8, n_estimators=50;, score=0.781 total time=   5.8s\n",
      "[CV 4/5] END bootstrap=True, criterion=entropy, max_depth=8, n_estimators=50;, score=0.787 total time=   5.8s\n",
      "[CV 5/5] END bootstrap=True, criterion=entropy, max_depth=8, n_estimators=50;, score=0.788 total time=   5.9s\n",
      "[CV 1/5] END bootstrap=True, criterion=entropy, max_depth=8, n_estimators=100;, score=0.810 total time=  11.5s\n",
      "[CV 2/5] END bootstrap=True, criterion=entropy, max_depth=8, n_estimators=100;, score=0.804 total time=  11.5s\n",
      "[CV 3/5] END bootstrap=True, criterion=entropy, max_depth=8, n_estimators=100;, score=0.815 total time=  11.4s\n",
      "[CV 4/5] END bootstrap=True, criterion=entropy, max_depth=8, n_estimators=100;, score=0.816 total time=  11.6s\n",
      "[CV 5/5] END bootstrap=True, criterion=entropy, max_depth=8, n_estimators=100;, score=0.813 total time=  11.4s\n",
      "[CV 1/5] END bootstrap=False, criterion=gini, max_depth=2, n_estimators=10;, score=0.606 total time=   0.5s\n",
      "[CV 2/5] END bootstrap=False, criterion=gini, max_depth=2, n_estimators=10;, score=0.606 total time=   0.6s\n",
      "[CV 3/5] END bootstrap=False, criterion=gini, max_depth=2, n_estimators=10;, score=0.593 total time=   0.6s\n",
      "[CV 4/5] END bootstrap=False, criterion=gini, max_depth=2, n_estimators=10;, score=0.588 total time=   0.5s\n",
      "[CV 5/5] END bootstrap=False, criterion=gini, max_depth=2, n_estimators=10;, score=0.624 total time=   0.5s\n",
      "[CV 1/5] END bootstrap=False, criterion=gini, max_depth=2, n_estimators=50;, score=0.704 total time=   2.3s\n",
      "[CV 2/5] END bootstrap=False, criterion=gini, max_depth=2, n_estimators=50;, score=0.698 total time=   2.3s\n",
      "[CV 3/5] END bootstrap=False, criterion=gini, max_depth=2, n_estimators=50;, score=0.696 total time=   2.3s\n",
      "[CV 4/5] END bootstrap=False, criterion=gini, max_depth=2, n_estimators=50;, score=0.697 total time=   2.3s\n",
      "[CV 5/5] END bootstrap=False, criterion=gini, max_depth=2, n_estimators=50;, score=0.711 total time=   2.3s\n",
      "[CV 1/5] END bootstrap=False, criterion=gini, max_depth=2, n_estimators=100;, score=0.734 total time=   4.6s\n",
      "[CV 2/5] END bootstrap=False, criterion=gini, max_depth=2, n_estimators=100;, score=0.725 total time=   4.5s\n",
      "[CV 3/5] END bootstrap=False, criterion=gini, max_depth=2, n_estimators=100;, score=0.712 total time=   4.7s\n",
      "[CV 4/5] END bootstrap=False, criterion=gini, max_depth=2, n_estimators=100;, score=0.730 total time=   4.6s\n",
      "[CV 5/5] END bootstrap=False, criterion=gini, max_depth=2, n_estimators=100;, score=0.740 total time=   4.7s\n",
      "[CV 1/5] END bootstrap=False, criterion=gini, max_depth=5, n_estimators=10;, score=0.682 total time=   1.2s\n",
      "[CV 2/5] END bootstrap=False, criterion=gini, max_depth=5, n_estimators=10;, score=0.631 total time=   1.2s\n",
      "[CV 3/5] END bootstrap=False, criterion=gini, max_depth=5, n_estimators=10;, score=0.661 total time=   1.2s\n",
      "[CV 4/5] END bootstrap=False, criterion=gini, max_depth=5, n_estimators=10;, score=0.697 total time=   1.2s\n",
      "[CV 5/5] END bootstrap=False, criterion=gini, max_depth=5, n_estimators=10;, score=0.670 total time=   1.2s\n",
      "[CV 1/5] END bootstrap=False, criterion=gini, max_depth=5, n_estimators=50;, score=0.788 total time=   5.3s\n",
      "[CV 2/5] END bootstrap=False, criterion=gini, max_depth=5, n_estimators=50;, score=0.765 total time=   5.3s\n",
      "[CV 3/5] END bootstrap=False, criterion=gini, max_depth=5, n_estimators=50;, score=0.772 total time=   5.4s\n",
      "[CV 4/5] END bootstrap=False, criterion=gini, max_depth=5, n_estimators=50;, score=0.755 total time=   5.3s\n",
      "[CV 5/5] END bootstrap=False, criterion=gini, max_depth=5, n_estimators=50;, score=0.778 total time=   5.3s\n",
      "[CV 1/5] END bootstrap=False, criterion=gini, max_depth=5, n_estimators=100;, score=0.802 total time=  10.6s\n",
      "[CV 2/5] END bootstrap=False, criterion=gini, max_depth=5, n_estimators=100;, score=0.789 total time=  10.4s\n",
      "[CV 3/5] END bootstrap=False, criterion=gini, max_depth=5, n_estimators=100;, score=0.788 total time=  10.4s\n",
      "[CV 4/5] END bootstrap=False, criterion=gini, max_depth=5, n_estimators=100;, score=0.782 total time=  10.4s\n",
      "[CV 5/5] END bootstrap=False, criterion=gini, max_depth=5, n_estimators=100;, score=0.798 total time=  10.4s\n",
      "[CV 1/5] END bootstrap=False, criterion=gini, max_depth=8, n_estimators=10;, score=0.669 total time=   1.8s\n",
      "[CV 2/5] END bootstrap=False, criterion=gini, max_depth=8, n_estimators=10;, score=0.665 total time=   1.7s\n",
      "[CV 3/5] END bootstrap=False, criterion=gini, max_depth=8, n_estimators=10;, score=0.697 total time=   1.8s\n",
      "[CV 4/5] END bootstrap=False, criterion=gini, max_depth=8, n_estimators=10;, score=0.716 total time=   1.7s\n",
      "[CV 5/5] END bootstrap=False, criterion=gini, max_depth=8, n_estimators=10;, score=0.693 total time=   1.7s\n",
      "[CV 1/5] END bootstrap=False, criterion=gini, max_depth=8, n_estimators=50;, score=0.789 total time=   8.5s\n",
      "[CV 2/5] END bootstrap=False, criterion=gini, max_depth=8, n_estimators=50;, score=0.784 total time=   8.4s\n",
      "[CV 3/5] END bootstrap=False, criterion=gini, max_depth=8, n_estimators=50;, score=0.789 total time=   8.4s\n",
      "[CV 4/5] END bootstrap=False, criterion=gini, max_depth=8, n_estimators=50;, score=0.794 total time=   8.4s\n",
      "[CV 5/5] END bootstrap=False, criterion=gini, max_depth=8, n_estimators=50;, score=0.783 total time=   8.4s\n",
      "[CV 1/5] END bootstrap=False, criterion=gini, max_depth=8, n_estimators=100;, score=0.814 total time=  16.9s\n",
      "[CV 2/5] END bootstrap=False, criterion=gini, max_depth=8, n_estimators=100;, score=0.800 total time=  16.8s\n",
      "[CV 3/5] END bootstrap=False, criterion=gini, max_depth=8, n_estimators=100;, score=0.821 total time=  16.7s\n",
      "[CV 4/5] END bootstrap=False, criterion=gini, max_depth=8, n_estimators=100;, score=0.809 total time=  16.7s\n",
      "[CV 5/5] END bootstrap=False, criterion=gini, max_depth=8, n_estimators=100;, score=0.816 total time=  16.7s\n",
      "[CV 1/5] END bootstrap=False, criterion=entropy, max_depth=2, n_estimators=10;, score=0.588 total time=   0.6s\n",
      "[CV 2/5] END bootstrap=False, criterion=entropy, max_depth=2, n_estimators=10;, score=0.604 total time=   0.6s\n",
      "[CV 3/5] END bootstrap=False, criterion=entropy, max_depth=2, n_estimators=10;, score=0.577 total time=   0.5s\n",
      "[CV 4/5] END bootstrap=False, criterion=entropy, max_depth=2, n_estimators=10;, score=0.595 total time=   0.6s\n",
      "[CV 5/5] END bootstrap=False, criterion=entropy, max_depth=2, n_estimators=10;, score=0.610 total time=   0.6s\n",
      "[CV 1/5] END bootstrap=False, criterion=entropy, max_depth=2, n_estimators=50;, score=0.741 total time=   2.4s\n",
      "[CV 2/5] END bootstrap=False, criterion=entropy, max_depth=2, n_estimators=50;, score=0.693 total time=   2.4s\n",
      "[CV 3/5] END bootstrap=False, criterion=entropy, max_depth=2, n_estimators=50;, score=0.696 total time=   2.5s\n",
      "[CV 4/5] END bootstrap=False, criterion=entropy, max_depth=2, n_estimators=50;, score=0.682 total time=   2.4s\n",
      "[CV 5/5] END bootstrap=False, criterion=entropy, max_depth=2, n_estimators=50;, score=0.703 total time=   2.4s\n",
      "[CV 1/5] END bootstrap=False, criterion=entropy, max_depth=2, n_estimators=100;, score=0.734 total time=   4.7s\n",
      "[CV 2/5] END bootstrap=False, criterion=entropy, max_depth=2, n_estimators=100;, score=0.728 total time=   4.6s\n",
      "[CV 3/5] END bootstrap=False, criterion=entropy, max_depth=2, n_estimators=100;, score=0.752 total time=   4.7s\n",
      "[CV 4/5] END bootstrap=False, criterion=entropy, max_depth=2, n_estimators=100;, score=0.749 total time=   4.7s\n",
      "[CV 5/5] END bootstrap=False, criterion=entropy, max_depth=2, n_estimators=100;, score=0.736 total time=   4.8s\n"
     ]
    },
    {
     "name": "stdout",
     "output_type": "stream",
     "text": [
      "[CV 1/5] END bootstrap=False, criterion=entropy, max_depth=5, n_estimators=10;, score=0.638 total time=   1.2s\n",
      "[CV 2/5] END bootstrap=False, criterion=entropy, max_depth=5, n_estimators=10;, score=0.651 total time=   1.2s\n",
      "[CV 3/5] END bootstrap=False, criterion=entropy, max_depth=5, n_estimators=10;, score=0.659 total time=   1.2s\n",
      "[CV 4/5] END bootstrap=False, criterion=entropy, max_depth=5, n_estimators=10;, score=0.656 total time=   1.2s\n",
      "[CV 5/5] END bootstrap=False, criterion=entropy, max_depth=5, n_estimators=10;, score=0.664 total time=   1.2s\n",
      "[CV 1/5] END bootstrap=False, criterion=entropy, max_depth=5, n_estimators=50;, score=0.758 total time=   5.4s\n",
      "[CV 2/5] END bootstrap=False, criterion=entropy, max_depth=5, n_estimators=50;, score=0.759 total time=   5.5s\n",
      "[CV 3/5] END bootstrap=False, criterion=entropy, max_depth=5, n_estimators=50;, score=0.759 total time=   5.4s\n",
      "[CV 4/5] END bootstrap=False, criterion=entropy, max_depth=5, n_estimators=50;, score=0.748 total time=   5.4s\n",
      "[CV 5/5] END bootstrap=False, criterion=entropy, max_depth=5, n_estimators=50;, score=0.788 total time=   5.4s\n",
      "[CV 1/5] END bootstrap=False, criterion=entropy, max_depth=5, n_estimators=100;, score=0.799 total time=  10.8s\n",
      "[CV 2/5] END bootstrap=False, criterion=entropy, max_depth=5, n_estimators=100;, score=0.788 total time=  10.7s\n",
      "[CV 3/5] END bootstrap=False, criterion=entropy, max_depth=5, n_estimators=100;, score=0.794 total time=  10.7s\n",
      "[CV 4/5] END bootstrap=False, criterion=entropy, max_depth=5, n_estimators=100;, score=0.795 total time=  10.6s\n",
      "[CV 5/5] END bootstrap=False, criterion=entropy, max_depth=5, n_estimators=100;, score=0.794 total time=  10.7s\n",
      "[CV 1/5] END bootstrap=False, criterion=entropy, max_depth=8, n_estimators=10;, score=0.713 total time=   1.8s\n",
      "[CV 2/5] END bootstrap=False, criterion=entropy, max_depth=8, n_estimators=10;, score=0.669 total time=   1.8s\n",
      "[CV 3/5] END bootstrap=False, criterion=entropy, max_depth=8, n_estimators=10;, score=0.675 total time=   1.8s\n",
      "[CV 4/5] END bootstrap=False, criterion=entropy, max_depth=8, n_estimators=10;, score=0.694 total time=   1.8s\n",
      "[CV 5/5] END bootstrap=False, criterion=entropy, max_depth=8, n_estimators=10;, score=0.672 total time=   1.8s\n",
      "[CV 1/5] END bootstrap=False, criterion=entropy, max_depth=8, n_estimators=50;, score=0.789 total time=   8.6s\n",
      "[CV 2/5] END bootstrap=False, criterion=entropy, max_depth=8, n_estimators=50;, score=0.782 total time=   8.6s\n",
      "[CV 3/5] END bootstrap=False, criterion=entropy, max_depth=8, n_estimators=50;, score=0.783 total time=   8.7s\n",
      "[CV 4/5] END bootstrap=False, criterion=entropy, max_depth=8, n_estimators=50;, score=0.799 total time=   8.6s\n",
      "[CV 5/5] END bootstrap=False, criterion=entropy, max_depth=8, n_estimators=50;, score=0.770 total time=   8.5s\n",
      "[CV 1/5] END bootstrap=False, criterion=entropy, max_depth=8, n_estimators=100;, score=0.812 total time=  17.2s\n",
      "[CV 2/5] END bootstrap=False, criterion=entropy, max_depth=8, n_estimators=100;, score=0.808 total time=  17.1s\n",
      "[CV 3/5] END bootstrap=False, criterion=entropy, max_depth=8, n_estimators=100;, score=0.815 total time=  17.1s\n",
      "[CV 4/5] END bootstrap=False, criterion=entropy, max_depth=8, n_estimators=100;, score=0.819 total time=  17.1s\n",
      "[CV 5/5] END bootstrap=False, criterion=entropy, max_depth=8, n_estimators=100;, score=0.814 total time=  18.5s\n"
     ]
    },
    {
     "data": {
      "text/plain": [
       "GridSearchCV(estimator=RandomForestClassifier(),\n",
       "             param_grid={'bootstrap': [True, False],\n",
       "                         'criterion': ['gini', 'entropy'],\n",
       "                         'max_depth': [2, 5, 8],\n",
       "                         'n_estimators': [10, 50, 100]},\n",
       "             verbose=3)"
      ]
     },
     "execution_count": 82,
     "metadata": {},
     "output_type": "execute_result"
    }
   ],
   "source": [
    "from sklearn.model_selection import GridSearchCV\n",
    "param_grid = {\n",
    "    'n_estimators': [10, 50, 100],\n",
    "    'max_depth': [2, 5, 8],\n",
    " 'criterion': ['gini', 'entropy'],\n",
    "    'bootstrap': [True, False]}\n",
    "grid = GridSearchCV(model2w2v, param_grid, refit=True, verbose=3 )\n",
    "grid.fit(x_train, y_train)"
   ]
  },
  {
   "cell_type": "code",
   "execution_count": 83,
   "id": "1c01a039",
   "metadata": {},
   "outputs": [
    {
     "name": "stdout",
     "output_type": "stream",
     "text": [
      "best CV score: 0.813768\n",
      "best parameters:  {'bootstrap': False, 'criterion': 'entropy', 'max_depth': 8, 'n_estimators': 100}\n"
     ]
    }
   ],
   "source": [
    "print(\"best CV score: {:2f}\".format(grid.best_score_))\n",
    "print(\"best parameters: \", grid.best_params_)"
   ]
  },
  {
   "cell_type": "markdown",
   "id": "cf5a6a3e",
   "metadata": {},
   "source": [
    "# Naive Bayes"
   ]
  },
  {
   "cell_type": "code",
   "execution_count": 84,
   "id": "3f8fa19a",
   "metadata": {},
   "outputs": [
    {
     "name": "stdout",
     "output_type": "stream",
     "text": [
      "86.29151539599302\n"
     ]
    }
   ],
   "source": [
    "model3w2v=MultinomialNB()\n",
    "model3w2v.fit(x_train,y_train)\n",
    "model3w2v_predict=model3w2v.predict(x_test)\n",
    "model3w2v_acc= accuracy_score(model3w2v_predict, y_test)\n",
    "print(model3w2v_acc*100)"
   ]
  },
  {
   "cell_type": "code",
   "execution_count": 85,
   "id": "b58ba38f",
   "metadata": {},
   "outputs": [
    {
     "name": "stdout",
     "output_type": "stream",
     "text": [
      "[[6441  977]\n",
      " [1062 6394]]\n",
      "\n",
      "\n",
      "              precision    recall  f1-score   support\n",
      "\n",
      "           0       0.86      0.87      0.86      7418\n",
      "           1       0.87      0.86      0.86      7456\n",
      "\n",
      "    accuracy                           0.86     14874\n",
      "   macro avg       0.86      0.86      0.86     14874\n",
      "weighted avg       0.86      0.86      0.86     14874\n",
      "\n"
     ]
    }
   ],
   "source": [
    "print(confusion_matrix(y_test, model3w2v_predict))\n",
    "print(\"\\n\")\n",
    "print(classification_report(y_test, model3w2v_predict))"
   ]
  },
  {
   "cell_type": "markdown",
   "id": "5d2e756b",
   "metadata": {},
   "source": [
    "# Support Vector Classifier"
   ]
  },
  {
   "cell_type": "code",
   "execution_count": 87,
   "id": "6bbcfec5",
   "metadata": {},
   "outputs": [],
   "source": [
    "from sklearn.svm import LinearSVC"
   ]
  },
  {
   "cell_type": "code",
   "execution_count": 88,
   "id": "0cb2dc23",
   "metadata": {},
   "outputs": [
    {
     "name": "stdout",
     "output_type": "stream",
     "text": [
      "86.29151539599302\n"
     ]
    }
   ],
   "source": [
    "model4w2v=LinearSVC()\n",
    "model4w2v.fit(x_train,y_train)\n",
    "model4w2v_predict=model4w2v.predict(x_test)\n",
    "model4w2v_acc= accuracy_score(model4w2v_predict, y_test)\n",
    "print(model3w2v_acc*100)"
   ]
  },
  {
   "cell_type": "code",
   "execution_count": 89,
   "id": "afc15e45",
   "metadata": {},
   "outputs": [
    {
     "name": "stdout",
     "output_type": "stream",
     "text": [
      "Size of x_train:  (34704, 181967)\n",
      "Size of y_train:  (34704,)\n",
      "Size of x_test:  (14874, 181967)\n",
      "Size of y_test:  (14874,)\n"
     ]
    }
   ],
   "source": [
    "vect= TfidfVectorizer()\n",
    "X=vect.fit_transform(df['review'])\n",
    "x_train, x_test, y_train, y_test = train_test_split(X,Y, test_size=0.3, random_state = 43)\n",
    "print(\"Size of x_train: \", (x_train.shape))\n",
    "print(\"Size of y_train: \", (y_train.shape))\n",
    "print(\"Size of x_test: \", (x_test.shape))\n",
    "print(\"Size of y_test: \", (y_test.shape))\n"
   ]
  },
  {
   "cell_type": "code",
   "execution_count": 90,
   "id": "18212aa3",
   "metadata": {},
   "outputs": [
    {
     "name": "stdout",
     "output_type": "stream",
     "text": [
      "89.0278338039532\n"
     ]
    }
   ],
   "source": [
    "model4tfidf=LinearSVC()\n",
    "model4tfidf.fit(x_train,y_train)\n",
    "model4tfidf_predict=model4tfidf.predict(x_test)\n",
    "model4tfidf_acc= accuracy_score(model4tfidf_predict, y_test)\n",
    "print(model4tfidf_acc*100)"
   ]
  },
  {
   "cell_type": "code",
   "execution_count": 149,
   "id": "3202736d",
   "metadata": {},
   "outputs": [],
   "source": [
    "train_yhat = model4tfidf.predict(x_train)"
   ]
  },
  {
   "cell_type": "code",
   "execution_count": 150,
   "id": "f5987c57",
   "metadata": {},
   "outputs": [],
   "source": [
    "train_acc = accuracy_score(y_train, train_yhat)"
   ]
  },
  {
   "cell_type": "code",
   "execution_count": 151,
   "id": "45c99460",
   "metadata": {},
   "outputs": [
    {
     "name": "stdout",
     "output_type": "stream",
     "text": [
      "0.9595723835869064\n"
     ]
    }
   ],
   "source": [
    "print(train_acc)"
   ]
  },
  {
   "cell_type": "code",
   "execution_count": 154,
   "id": "782b11fc",
   "metadata": {},
   "outputs": [],
   "source": [
    "test_yhat = model4tfidf.predict(x_test)\n",
    " "
   ]
  },
  {
   "cell_type": "code",
   "execution_count": 155,
   "id": "0ad20bda",
   "metadata": {},
   "outputs": [],
   "source": [
    "test_acc= accuracy_score(y_test, test_yhat)"
   ]
  },
  {
   "cell_type": "code",
   "execution_count": 156,
   "id": "ae1f3a34",
   "metadata": {},
   "outputs": [
    {
     "name": "stdout",
     "output_type": "stream",
     "text": [
      "0.891286809197257\n"
     ]
    }
   ],
   "source": [
    "print(test_acc)"
   ]
  },
  {
   "cell_type": "code",
   "execution_count": null,
   "id": "c44abd43",
   "metadata": {},
   "outputs": [],
   "source": []
  },
  {
   "cell_type": "code",
   "execution_count": null,
   "id": "59c94028",
   "metadata": {},
   "outputs": [],
   "source": []
  },
  {
   "cell_type": "code",
   "execution_count": null,
   "id": "6393cd21",
   "metadata": {},
   "outputs": [],
   "source": []
  },
  {
   "cell_type": "markdown",
   "id": "2856b041",
   "metadata": {},
   "source": [
    "# Hyperparameter Tunning with Grid Search CV"
   ]
  },
  {
   "cell_type": "code",
   "execution_count": 164,
   "id": "b00cb846",
   "metadata": {},
   "outputs": [
    {
     "name": "stdout",
     "output_type": "stream",
     "text": [
      "Fitting 5 folds for each of 6 candidates, totalling 30 fits\n",
      "[CV 1/5] END ...................C=1, loss=hinge;, score=0.891 total time=   0.7s\n",
      "[CV 2/5] END ...................C=1, loss=hinge;, score=0.888 total time=   0.6s\n",
      "[CV 3/5] END ...................C=1, loss=hinge;, score=0.879 total time=   0.5s\n",
      "[CV 4/5] END ...................C=1, loss=hinge;, score=0.897 total time=   1.6s\n",
      "[CV 5/5] END ...................C=1, loss=hinge;, score=0.891 total time=   0.5s\n",
      "[CV 1/5] END ...........C=1, loss=squared_hinge;, score=0.889 total time=   0.5s\n",
      "[CV 2/5] END ...........C=1, loss=squared_hinge;, score=0.884 total time=   0.5s\n",
      "[CV 3/5] END ...........C=1, loss=squared_hinge;, score=0.881 total time=   0.5s\n",
      "[CV 4/5] END ...........C=1, loss=squared_hinge;, score=0.896 total time=   0.5s\n",
      "[CV 5/5] END ...........C=1, loss=squared_hinge;, score=0.886 total time=   0.5s\n",
      "[CV 1/5] END ..................C=10, loss=hinge;, score=0.870 total time=   2.3s\n",
      "[CV 2/5] END ..................C=10, loss=hinge;, score=0.867 total time=   2.6s\n",
      "[CV 3/5] END ..................C=10, loss=hinge;, score=0.864 total time=   2.3s\n",
      "[CV 4/5] END ..................C=10, loss=hinge;, score=0.877 total time=   2.9s\n",
      "[CV 5/5] END ..................C=10, loss=hinge;, score=0.869 total time=   4.1s\n",
      "[CV 1/5] END ..........C=10, loss=squared_hinge;, score=0.875 total time=   1.7s\n",
      "[CV 2/5] END ..........C=10, loss=squared_hinge;, score=0.869 total time=   1.8s\n",
      "[CV 3/5] END ..........C=10, loss=squared_hinge;, score=0.867 total time=   1.7s\n",
      "[CV 4/5] END ..........C=10, loss=squared_hinge;, score=0.882 total time=   1.7s\n",
      "[CV 5/5] END ..........C=10, loss=squared_hinge;, score=0.874 total time=   1.9s\n",
      "[CV 1/5] END .................C=100, loss=hinge;, score=0.872 total time=   3.0s\n",
      "[CV 2/5] END .................C=100, loss=hinge;, score=0.862 total time=   3.2s\n",
      "[CV 3/5] END .................C=100, loss=hinge;, score=0.861 total time=   2.8s\n",
      "[CV 4/5] END .................C=100, loss=hinge;, score=0.875 total time=   3.7s\n",
      "[CV 5/5] END .................C=100, loss=hinge;, score=0.867 total time=   5.4s\n",
      "[CV 1/5] END .........C=100, loss=squared_hinge;, score=0.872 total time=   2.8s\n",
      "[CV 2/5] END .........C=100, loss=squared_hinge;, score=0.863 total time=   3.0s\n",
      "[CV 3/5] END .........C=100, loss=squared_hinge;, score=0.863 total time=   3.1s\n",
      "[CV 4/5] END .........C=100, loss=squared_hinge;, score=0.876 total time=   3.3s\n",
      "[CV 5/5] END .........C=100, loss=squared_hinge;, score=0.868 total time=   4.4s\n"
     ]
    },
    {
     "data": {
      "text/plain": [
       "GridSearchCV(estimator=LinearSVC(C=1, loss='hinge'),\n",
       "             param_grid={'C': [1, 10, 100], 'loss': ['hinge', 'squared_hinge']},\n",
       "             verbose=3)"
      ]
     },
     "execution_count": 164,
     "metadata": {},
     "output_type": "execute_result"
    }
   ],
   "source": [
    "param_grid = { 'C':[1, 10, 100],\n",
    "              \n",
    "              'loss':['hinge', 'squared_hinge']} \n",
    "grid= GridSearchCV(model4tfidf, param_grid, refit=True, verbose=3)\n",
    "grid.fit(x_train, y_train)"
   ]
  },
  {
   "cell_type": "code",
   "execution_count": 165,
   "id": "31bed280",
   "metadata": {},
   "outputs": [
    {
     "name": "stdout",
     "output_type": "stream",
     "text": [
      "best CV score: 0.889062\n",
      "best parameters:  {'C': 1, 'loss': 'hinge'}\n"
     ]
    }
   ],
   "source": [
    "print(\"best CV score: {:2f}\".format(grid.best_score_))\n",
    "print(\"best parameters: \", grid.best_params_)"
   ]
  },
  {
   "cell_type": "markdown",
   "id": "40bd630c",
   "metadata": {},
   "source": [
    "# Best Fit Model SVC having maximum Accuracy\n"
   ]
  },
  {
   "cell_type": "code",
   "execution_count": 166,
   "id": "f73f8621",
   "metadata": {},
   "outputs": [
    {
     "name": "stdout",
     "output_type": "stream",
     "text": [
      "89.1286809197257\n"
     ]
    }
   ],
   "source": [
    "model4tfidf=LinearSVC(C=1, loss='hinge')\n",
    "model4tfidf.fit(x_train,y_train)\n",
    "model4tfidf_predict=model4tfidf.predict(x_test)\n",
    "model4tfidf_acc= accuracy_score(model4tfidf_predict, y_test)\n",
    "print(model4tfidf_acc*100)\n",
    "\n",
    "\n"
   ]
  },
  {
   "cell_type": "code",
   "execution_count": 167,
   "id": "484228c1",
   "metadata": {},
   "outputs": [
    {
     "name": "stdout",
     "output_type": "stream",
     "text": [
      "[[6549  869]\n",
      " [ 748 6708]]\n",
      "\n",
      "\n",
      "              precision    recall  f1-score   support\n",
      "\n",
      "           0       0.90      0.88      0.89      7418\n",
      "           1       0.89      0.90      0.89      7456\n",
      "\n",
      "    accuracy                           0.89     14874\n",
      "   macro avg       0.89      0.89      0.89     14874\n",
      "weighted avg       0.89      0.89      0.89     14874\n",
      "\n"
     ]
    }
   ],
   "source": [
    "print(confusion_matrix(y_test, model4tfidf_predict))\n",
    "print(\"\\n\")\n",
    "print(classification_report(y_test, model4tfidf_predict))"
   ]
  },
  {
   "cell_type": "markdown",
   "id": "8d054350",
   "metadata": {},
   "source": [
    "# Creating a .pkl file"
   ]
  },
  {
   "cell_type": "code",
   "execution_count": 124,
   "id": "ecb10b29",
   "metadata": {},
   "outputs": [],
   "source": [
    "import joblib"
   ]
  },
  {
   "cell_type": "code",
   "execution_count": 125,
   "id": "131885f1",
   "metadata": {},
   "outputs": [
    {
     "data": {
      "text/plain": [
       "['Capstone_Model.pkl']"
      ]
     },
     "execution_count": 125,
     "metadata": {},
     "output_type": "execute_result"
    }
   ],
   "source": [
    "joblib.dump(model4tfidf,'Capstone_Model.pkl')"
   ]
  },
  {
   "cell_type": "code",
   "execution_count": 129,
   "id": "beb6ccf3",
   "metadata": {},
   "outputs": [],
   "source": [
    "df.to_csv('df.csv', index=False)"
   ]
  },
  {
   "cell_type": "code",
   "execution_count": 128,
   "id": "887150dc",
   "metadata": {},
   "outputs": [
    {
     "data": {
      "text/html": [
       "<div>\n",
       "<style scoped>\n",
       "    .dataframe tbody tr th:only-of-type {\n",
       "        vertical-align: middle;\n",
       "    }\n",
       "\n",
       "    .dataframe tbody tr th {\n",
       "        vertical-align: top;\n",
       "    }\n",
       "\n",
       "    .dataframe thead th {\n",
       "        text-align: right;\n",
       "    }\n",
       "</style>\n",
       "<table border=\"1\" class=\"dataframe\">\n",
       "  <thead>\n",
       "    <tr style=\"text-align: right;\">\n",
       "      <th></th>\n",
       "      <th>review</th>\n",
       "      <th>sentiment</th>\n",
       "    </tr>\n",
       "  </thead>\n",
       "  <tbody>\n",
       "    <tr>\n",
       "      <th>0</th>\n",
       "      <td>one review mention watch 1 oz episod youll hoo...</td>\n",
       "      <td>1</td>\n",
       "    </tr>\n",
       "    <tr>\n",
       "      <th>1</th>\n",
       "      <td>wonder littl product film techniqu unassum old...</td>\n",
       "      <td>1</td>\n",
       "    </tr>\n",
       "    <tr>\n",
       "      <th>2</th>\n",
       "      <td>thought wonder way spend time hot summer weeke...</td>\n",
       "      <td>1</td>\n",
       "    </tr>\n",
       "    <tr>\n",
       "      <th>3</th>\n",
       "      <td>basic there famili littl boy jake think there ...</td>\n",
       "      <td>0</td>\n",
       "    </tr>\n",
       "    <tr>\n",
       "      <th>4</th>\n",
       "      <td>petter mattei love time money visual stun film...</td>\n",
       "      <td>1</td>\n",
       "    </tr>\n",
       "  </tbody>\n",
       "</table>\n",
       "</div>"
      ],
      "text/plain": [
       "                                              review  sentiment\n",
       "0  one review mention watch 1 oz episod youll hoo...          1\n",
       "1  wonder littl product film techniqu unassum old...          1\n",
       "2  thought wonder way spend time hot summer weeke...          1\n",
       "3  basic there famili littl boy jake think there ...          0\n",
       "4  petter mattei love time money visual stun film...          1"
      ]
     },
     "execution_count": 128,
     "metadata": {},
     "output_type": "execute_result"
    }
   ],
   "source": [
    "df.head()"
   ]
  },
  {
   "cell_type": "code",
   "execution_count": 131,
   "id": "81d55722",
   "metadata": {},
   "outputs": [],
   "source": [
    "pos_words.to_csv('pos_words.csv', index=False)"
   ]
  },
  {
   "cell_type": "code",
   "execution_count": 132,
   "id": "4a42f6aa",
   "metadata": {},
   "outputs": [],
   "source": [
    "neg_words.to_csv('neg_words.csv', index=False)"
   ]
  },
  {
   "cell_type": "code",
   "execution_count": 138,
   "id": "7ef55e48",
   "metadata": {},
   "outputs": [
    {
     "ename": "SyntaxError",
     "evalue": "invalid syntax (899892004.py, line 1)",
     "output_type": "error",
     "traceback": [
      "\u001b[1;36m  Input \u001b[1;32mIn [138]\u001b[1;36m\u001b[0m\n\u001b[1;33m    counts.to_csv('df['sentiment'].value_counts()', index=False)\u001b[0m\n\u001b[1;37m                       ^\u001b[0m\n\u001b[1;31mSyntaxError\u001b[0m\u001b[1;31m:\u001b[0m invalid syntax\n"
     ]
    }
   ],
   "source": [
    "counts.to_csv('df['sentiment'].value_counts()', index=False)"
   ]
  },
  {
   "cell_type": "code",
   "execution_count": 139,
   "id": "ab1ef923",
   "metadata": {},
   "outputs": [],
   "source": [
    "m=df['sentiment'].value_counts()"
   ]
  },
  {
   "cell_type": "code",
   "execution_count": 140,
   "id": "e3f49ce6",
   "metadata": {},
   "outputs": [
    {
     "data": {
      "text/plain": [
       "1    24883\n",
       "0    24695\n",
       "Name: sentiment, dtype: int64"
      ]
     },
     "execution_count": 140,
     "metadata": {},
     "output_type": "execute_result"
    }
   ],
   "source": [
    "m.head()"
   ]
  },
  {
   "cell_type": "code",
   "execution_count": 141,
   "id": "9c884fb5",
   "metadata": {},
   "outputs": [],
   "source": [
    "m.to_csv('m.csv', index=False)"
   ]
  },
  {
   "cell_type": "code",
   "execution_count": 142,
   "id": "fa82dc42",
   "metadata": {},
   "outputs": [],
   "source": [
    "md=df['Number'] = range(1, len(df) + 1) "
   ]
  },
  {
   "cell_type": "code",
   "execution_count": 147,
   "id": "5c1848ef",
   "metadata": {},
   "outputs": [
    {
     "data": {
      "text/html": [
       "<div>\n",
       "<style scoped>\n",
       "    .dataframe tbody tr th:only-of-type {\n",
       "        vertical-align: middle;\n",
       "    }\n",
       "\n",
       "    .dataframe tbody tr th {\n",
       "        vertical-align: top;\n",
       "    }\n",
       "\n",
       "    .dataframe thead th {\n",
       "        text-align: right;\n",
       "    }\n",
       "</style>\n",
       "<table border=\"1\" class=\"dataframe\">\n",
       "  <thead>\n",
       "    <tr style=\"text-align: right;\">\n",
       "      <th></th>\n",
       "      <th>review</th>\n",
       "      <th>sentiment</th>\n",
       "      <th>Number</th>\n",
       "    </tr>\n",
       "  </thead>\n",
       "  <tbody>\n",
       "    <tr>\n",
       "      <th>0</th>\n",
       "      <td>one review mention watch 1 oz episod youll hoo...</td>\n",
       "      <td>1</td>\n",
       "      <td>1</td>\n",
       "    </tr>\n",
       "    <tr>\n",
       "      <th>1</th>\n",
       "      <td>wonder littl product film techniqu unassum old...</td>\n",
       "      <td>1</td>\n",
       "      <td>2</td>\n",
       "    </tr>\n",
       "    <tr>\n",
       "      <th>2</th>\n",
       "      <td>thought wonder way spend time hot summer weeke...</td>\n",
       "      <td>1</td>\n",
       "      <td>3</td>\n",
       "    </tr>\n",
       "    <tr>\n",
       "      <th>3</th>\n",
       "      <td>basic there famili littl boy jake think there ...</td>\n",
       "      <td>0</td>\n",
       "      <td>4</td>\n",
       "    </tr>\n",
       "    <tr>\n",
       "      <th>4</th>\n",
       "      <td>petter mattei love time money visual stun film...</td>\n",
       "      <td>1</td>\n",
       "      <td>5</td>\n",
       "    </tr>\n",
       "  </tbody>\n",
       "</table>\n",
       "</div>"
      ],
      "text/plain": [
       "                                              review  sentiment  Number\n",
       "0  one review mention watch 1 oz episod youll hoo...          1       1\n",
       "1  wonder littl product film techniqu unassum old...          1       2\n",
       "2  thought wonder way spend time hot summer weeke...          1       3\n",
       "3  basic there famili littl boy jake think there ...          0       4\n",
       "4  petter mattei love time money visual stun film...          1       5"
      ]
     },
     "execution_count": 147,
     "metadata": {},
     "output_type": "execute_result"
    }
   ],
   "source": [
    "df.head()"
   ]
  },
  {
   "cell_type": "code",
   "execution_count": 148,
   "id": "958b6bd0",
   "metadata": {},
   "outputs": [],
   "source": [
    "df.to_csv('df.csv', index=False)"
   ]
  },
  {
   "cell_type": "code",
   "execution_count": null,
   "id": "90ed9ad5",
   "metadata": {},
   "outputs": [],
   "source": []
  }
 ],
 "metadata": {
  "kernelspec": {
   "display_name": "Python 3 (ipykernel)",
   "language": "python",
   "name": "python3"
  },
  "language_info": {
   "codemirror_mode": {
    "name": "ipython",
    "version": 3
   },
   "file_extension": ".py",
   "mimetype": "text/x-python",
   "name": "python",
   "nbconvert_exporter": "python",
   "pygments_lexer": "ipython3",
   "version": "3.9.12"
  }
 },
 "nbformat": 4,
 "nbformat_minor": 5
}
